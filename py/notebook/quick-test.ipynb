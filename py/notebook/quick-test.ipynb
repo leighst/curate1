{
 "cells": [
  {
   "cell_type": "code",
   "execution_count": 34,
   "metadata": {},
   "outputs": [],
   "source": [
    "import os\n",
    "db_path = \"../../.data/curate1.db\"\n",
    "os.environ['SQLITE_DATABASE_PATH'] = db_path"
   ]
  },
  {
   "cell_type": "code",
   "execution_count": 31,
   "metadata": {},
   "outputs": [],
   "source": [
    "# %reload_ext autoreload\n",
    "# %autoreload 2\n",
    "\n",
    "import importlib\n",
    "\n"
   ]
  },
  {
   "cell_type": "code",
   "execution_count": 42,
   "metadata": {},
   "outputs": [
    {
     "data": {
      "text/html": [
       "<div>\n",
       "<style scoped>\n",
       "    .dataframe tbody tr th:only-of-type {\n",
       "        vertical-align: middle;\n",
       "    }\n",
       "\n",
       "    .dataframe tbody tr th {\n",
       "        vertical-align: top;\n",
       "    }\n",
       "\n",
       "    .dataframe thead th {\n",
       "        text-align: right;\n",
       "    }\n",
       "</style>\n",
       "<table border=\"1\" class=\"dataframe\">\n",
       "  <thead>\n",
       "    <tr style=\"text-align: right;\">\n",
       "      <th></th>\n",
       "      <th>id</th>\n",
       "      <th>document_id</th>\n",
       "      <th>value</th>\n",
       "      <th>label</th>\n",
       "      <th>created_at</th>\n",
       "    </tr>\n",
       "  </thead>\n",
       "  <tbody>\n",
       "    <tr>\n",
       "      <th>0</th>\n",
       "      <td>327</td>\n",
       "      <td>38828974</td>\n",
       "      <td>{\"highly_relevant\": false, \"reasoning\": \"The c...</td>\n",
       "      <td>filter_spec_iac</td>\n",
       "      <td>1704072147</td>\n",
       "    </tr>\n",
       "    <tr>\n",
       "      <th>1</th>\n",
       "      <td>328</td>\n",
       "      <td>38828987</td>\n",
       "      <td>{\"highly_relevant\": false, \"reasoning\": \"This ...</td>\n",
       "      <td>filter_spec_iac</td>\n",
       "      <td>1704072279</td>\n",
       "    </tr>\n",
       "    <tr>\n",
       "      <th>2</th>\n",
       "      <td>329</td>\n",
       "      <td>38829038</td>\n",
       "      <td>{\"highly_relevant\": false, \"reasoning\": \"The d...</td>\n",
       "      <td>filter_spec_iac</td>\n",
       "      <td>1704072785</td>\n",
       "    </tr>\n",
       "    <tr>\n",
       "      <th>3</th>\n",
       "      <td>330</td>\n",
       "      <td>38829138</td>\n",
       "      <td>{\"highly_relevant\": false, \"reasoning\": \"The d...</td>\n",
       "      <td>filter_spec_iac</td>\n",
       "      <td>1704074119</td>\n",
       "    </tr>\n",
       "    <tr>\n",
       "      <th>4</th>\n",
       "      <td>331</td>\n",
       "      <td>38829141</td>\n",
       "      <td>{\"highly_relevant\": false, \"reasoning\": \"The d...</td>\n",
       "      <td>filter_spec_iac</td>\n",
       "      <td>1704074151</td>\n",
       "    </tr>\n",
       "    <tr>\n",
       "      <th>...</th>\n",
       "      <td>...</td>\n",
       "      <td>...</td>\n",
       "      <td>...</td>\n",
       "      <td>...</td>\n",
       "      <td>...</td>\n",
       "    </tr>\n",
       "    <tr>\n",
       "      <th>811</th>\n",
       "      <td>1138</td>\n",
       "      <td>38847999</td>\n",
       "      <td>{\"highly_relevant\": false, \"reasoning\": \"The d...</td>\n",
       "      <td>filter_spec_coding-with-ai</td>\n",
       "      <td>1704234840</td>\n",
       "    </tr>\n",
       "    <tr>\n",
       "      <th>812</th>\n",
       "      <td>1139</td>\n",
       "      <td>38848001</td>\n",
       "      <td>{\"highly_relevant\": false, \"reasoning\": \"This ...</td>\n",
       "      <td>filter_spec_coding-with-ai</td>\n",
       "      <td>1704234844</td>\n",
       "    </tr>\n",
       "    <tr>\n",
       "      <th>813</th>\n",
       "      <td>1140</td>\n",
       "      <td>38848045</td>\n",
       "      <td>{\"highly_relevant\": false, \"reasoning\": \"The d...</td>\n",
       "      <td>filter_spec_coding-with-ai</td>\n",
       "      <td>1704235134</td>\n",
       "    </tr>\n",
       "    <tr>\n",
       "      <th>814</th>\n",
       "      <td>1141</td>\n",
       "      <td>38848149</td>\n",
       "      <td>{\"highly_relevant\": false, \"reasoning\": \"The d...</td>\n",
       "      <td>filter_spec_coding-with-ai</td>\n",
       "      <td>1704235825</td>\n",
       "    </tr>\n",
       "    <tr>\n",
       "      <th>815</th>\n",
       "      <td>1142</td>\n",
       "      <td>38848156</td>\n",
       "      <td>{\"highly_relevant\": false, \"reasoning\": \"While...</td>\n",
       "      <td>filter_spec_coding-with-ai</td>\n",
       "      <td>1704235848</td>\n",
       "    </tr>\n",
       "  </tbody>\n",
       "</table>\n",
       "<p>816 rows × 5 columns</p>\n",
       "</div>"
      ],
      "text/plain": [
       "       id  document_id                                              value  \\\n",
       "0     327     38828974  {\"highly_relevant\": false, \"reasoning\": \"The c...   \n",
       "1     328     38828987  {\"highly_relevant\": false, \"reasoning\": \"This ...   \n",
       "2     329     38829038  {\"highly_relevant\": false, \"reasoning\": \"The d...   \n",
       "3     330     38829138  {\"highly_relevant\": false, \"reasoning\": \"The d...   \n",
       "4     331     38829141  {\"highly_relevant\": false, \"reasoning\": \"The d...   \n",
       "..    ...          ...                                                ...   \n",
       "811  1138     38847999  {\"highly_relevant\": false, \"reasoning\": \"The d...   \n",
       "812  1139     38848001  {\"highly_relevant\": false, \"reasoning\": \"This ...   \n",
       "813  1140     38848045  {\"highly_relevant\": false, \"reasoning\": \"The d...   \n",
       "814  1141     38848149  {\"highly_relevant\": false, \"reasoning\": \"The d...   \n",
       "815  1142     38848156  {\"highly_relevant\": false, \"reasoning\": \"While...   \n",
       "\n",
       "                          label  created_at  \n",
       "0               filter_spec_iac  1704072147  \n",
       "1               filter_spec_iac  1704072279  \n",
       "2               filter_spec_iac  1704072785  \n",
       "3               filter_spec_iac  1704074119  \n",
       "4               filter_spec_iac  1704074151  \n",
       "..                          ...         ...  \n",
       "811  filter_spec_coding-with-ai  1704234840  \n",
       "812  filter_spec_coding-with-ai  1704234844  \n",
       "813  filter_spec_coding-with-ai  1704235134  \n",
       "814  filter_spec_coding-with-ai  1704235825  \n",
       "815  filter_spec_coding-with-ai  1704235848  \n",
       "\n",
       "[816 rows x 5 columns]"
      ]
     },
     "execution_count": 42,
     "metadata": {},
     "output_type": "execute_result"
    }
   ],
   "source": [
    "from datetime import datetime\n",
    "import pandas as pd\n",
    "import sqlite3\n",
    "\n",
    "conn = sqlite3.connect(db_path)\n",
    "query = '''\n",
    "  SELECT * FROM document_attribute\n",
    "'''\n",
    "\n",
    "df = pd.read_sql_query(query, conn)\n",
    "conn.close()\n",
    "\n",
    "df"
   ]
  },
  {
   "cell_type": "code",
   "execution_count": 53,
   "metadata": {},
   "outputs": [
    {
     "data": {
      "text/html": [
       "<div>\n",
       "<style scoped>\n",
       "    .dataframe tbody tr th:only-of-type {\n",
       "        vertical-align: middle;\n",
       "    }\n",
       "\n",
       "    .dataframe tbody tr th {\n",
       "        vertical-align: top;\n",
       "    }\n",
       "\n",
       "    .dataframe thead th {\n",
       "        text-align: right;\n",
       "    }\n",
       "</style>\n",
       "<table border=\"1\" class=\"dataframe\">\n",
       "  <thead>\n",
       "    <tr style=\"text-align: right;\">\n",
       "      <th></th>\n",
       "      <th>id</th>\n",
       "      <th>document_id</th>\n",
       "      <th>value</th>\n",
       "      <th>label</th>\n",
       "      <th>created_at</th>\n",
       "    </tr>\n",
       "  </thead>\n",
       "  <tbody>\n",
       "    <tr>\n",
       "      <th>0</th>\n",
       "      <td>1143</td>\n",
       "      <td>38844042</td>\n",
       "      <td>{\"highly_relevant\": false, \"reasoning\": \"The d...</td>\n",
       "      <td>filter_spec_iac</td>\n",
       "      <td>1704215683</td>\n",
       "    </tr>\n",
       "    <tr>\n",
       "      <th>1</th>\n",
       "      <td>1144</td>\n",
       "      <td>38844138</td>\n",
       "      <td>{\"highly_relevant\": false, \"reasoning\": \"The d...</td>\n",
       "      <td>filter_spec_iac</td>\n",
       "      <td>1704216090</td>\n",
       "    </tr>\n",
       "    <tr>\n",
       "      <th>2</th>\n",
       "      <td>1145</td>\n",
       "      <td>38844202</td>\n",
       "      <td>{\"highly_relevant\": false, \"reasoning\": \"The d...</td>\n",
       "      <td>filter_spec_iac</td>\n",
       "      <td>1704216395</td>\n",
       "    </tr>\n",
       "    <tr>\n",
       "      <th>3</th>\n",
       "      <td>1146</td>\n",
       "      <td>38844272</td>\n",
       "      <td>{\"highly_relevant\": false, \"reasoning\": \"The d...</td>\n",
       "      <td>filter_spec_iac</td>\n",
       "      <td>1704216703</td>\n",
       "    </tr>\n",
       "    <tr>\n",
       "      <th>4</th>\n",
       "      <td>1147</td>\n",
       "      <td>38844332</td>\n",
       "      <td>{\"highly_relevant\": false, \"reasoning\": \"The d...</td>\n",
       "      <td>filter_spec_iac</td>\n",
       "      <td>1704216889</td>\n",
       "    </tr>\n",
       "    <tr>\n",
       "      <th>5</th>\n",
       "      <td>1148</td>\n",
       "      <td>38844467</td>\n",
       "      <td>{\"highly_relevant\": false, \"reasoning\": \"While...</td>\n",
       "      <td>filter_spec_iac</td>\n",
       "      <td>1704217524</td>\n",
       "    </tr>\n",
       "    <tr>\n",
       "      <th>6</th>\n",
       "      <td>1149</td>\n",
       "      <td>38844535</td>\n",
       "      <td>{\"highly_relevant\": false, \"reasoning\": \"The d...</td>\n",
       "      <td>filter_spec_iac</td>\n",
       "      <td>1704217810</td>\n",
       "    </tr>\n",
       "    <tr>\n",
       "      <th>7</th>\n",
       "      <td>1150</td>\n",
       "      <td>38844550</td>\n",
       "      <td>{\"highly_relevant\": false, \"reasoning\": \"The d...</td>\n",
       "      <td>filter_spec_iac</td>\n",
       "      <td>1704217862</td>\n",
       "    </tr>\n",
       "    <tr>\n",
       "      <th>8</th>\n",
       "      <td>1151</td>\n",
       "      <td>38844580</td>\n",
       "      <td>{\"highly_relevant\": false, \"reasoning\": \"While...</td>\n",
       "      <td>filter_spec_iac</td>\n",
       "      <td>1704217982</td>\n",
       "    </tr>\n",
       "    <tr>\n",
       "      <th>9</th>\n",
       "      <td>1152</td>\n",
       "      <td>38843862</td>\n",
       "      <td>{\"highly_relevant\": false, \"reasoning\": \"The d...</td>\n",
       "      <td>filter_spec_coding-with-ai</td>\n",
       "      <td>1704214875</td>\n",
       "    </tr>\n",
       "    <tr>\n",
       "      <th>10</th>\n",
       "      <td>1153</td>\n",
       "      <td>38843894</td>\n",
       "      <td>{\"highly_relevant\": false, \"reasoning\": \"While...</td>\n",
       "      <td>filter_spec_coding-with-ai</td>\n",
       "      <td>1704214985</td>\n",
       "    </tr>\n",
       "    <tr>\n",
       "      <th>11</th>\n",
       "      <td>1154</td>\n",
       "      <td>38843986</td>\n",
       "      <td>{\"highly_relevant\": false, \"reasoning\": \"The d...</td>\n",
       "      <td>filter_spec_coding-with-ai</td>\n",
       "      <td>1704215390</td>\n",
       "    </tr>\n",
       "    <tr>\n",
       "      <th>12</th>\n",
       "      <td>1155</td>\n",
       "      <td>38844008</td>\n",
       "      <td>{\"highly_relevant\": false, \"reasoning\": \"The d...</td>\n",
       "      <td>filter_spec_coding-with-ai</td>\n",
       "      <td>1704215470</td>\n",
       "    </tr>\n",
       "    <tr>\n",
       "      <th>13</th>\n",
       "      <td>1156</td>\n",
       "      <td>38844042</td>\n",
       "      <td>{\"highly_relevant\": false, \"reasoning\": \"The d...</td>\n",
       "      <td>filter_spec_coding-with-ai</td>\n",
       "      <td>1704215683</td>\n",
       "    </tr>\n",
       "    <tr>\n",
       "      <th>14</th>\n",
       "      <td>1157</td>\n",
       "      <td>38844079</td>\n",
       "      <td>{\"highly_relevant\": false, \"reasoning\": \"The d...</td>\n",
       "      <td>filter_spec_coding-with-ai</td>\n",
       "      <td>1704215861</td>\n",
       "    </tr>\n",
       "    <tr>\n",
       "      <th>15</th>\n",
       "      <td>1158</td>\n",
       "      <td>38844117</td>\n",
       "      <td>{\"highly_relevant\": false, \"reasoning\": \"The d...</td>\n",
       "      <td>filter_spec_coding-with-ai</td>\n",
       "      <td>1704216018</td>\n",
       "    </tr>\n",
       "    <tr>\n",
       "      <th>16</th>\n",
       "      <td>1159</td>\n",
       "      <td>38844138</td>\n",
       "      <td>{\"highly_relevant\": false, \"reasoning\": \"The d...</td>\n",
       "      <td>filter_spec_coding-with-ai</td>\n",
       "      <td>1704216090</td>\n",
       "    </tr>\n",
       "    <tr>\n",
       "      <th>17</th>\n",
       "      <td>1160</td>\n",
       "      <td>38844157</td>\n",
       "      <td>{\"highly_relevant\": false, \"reasoning\": \"The d...</td>\n",
       "      <td>filter_spec_coding-with-ai</td>\n",
       "      <td>1704216177</td>\n",
       "    </tr>\n",
       "    <tr>\n",
       "      <th>18</th>\n",
       "      <td>1161</td>\n",
       "      <td>38844202</td>\n",
       "      <td>{\"highly_relevant\": false, \"reasoning\": \"The d...</td>\n",
       "      <td>filter_spec_coding-with-ai</td>\n",
       "      <td>1704216395</td>\n",
       "    </tr>\n",
       "    <tr>\n",
       "      <th>19</th>\n",
       "      <td>1162</td>\n",
       "      <td>38844207</td>\n",
       "      <td>{\"highly_relevant\": false, \"reasoning\": \"The d...</td>\n",
       "      <td>filter_spec_coding-with-ai</td>\n",
       "      <td>1704216430</td>\n",
       "    </tr>\n",
       "    <tr>\n",
       "      <th>20</th>\n",
       "      <td>1163</td>\n",
       "      <td>38844272</td>\n",
       "      <td>{\"highly_relevant\": false, \"reasoning\": \"The d...</td>\n",
       "      <td>filter_spec_coding-with-ai</td>\n",
       "      <td>1704216703</td>\n",
       "    </tr>\n",
       "    <tr>\n",
       "      <th>21</th>\n",
       "      <td>1164</td>\n",
       "      <td>38844279</td>\n",
       "      <td>{\"highly_relevant\": false, \"reasoning\": \"The d...</td>\n",
       "      <td>filter_spec_coding-with-ai</td>\n",
       "      <td>1704216716</td>\n",
       "    </tr>\n",
       "    <tr>\n",
       "      <th>22</th>\n",
       "      <td>1165</td>\n",
       "      <td>38844312</td>\n",
       "      <td>{\"highly_relevant\": false, \"reasoning\": \"While...</td>\n",
       "      <td>filter_spec_coding-with-ai</td>\n",
       "      <td>1704216820</td>\n",
       "    </tr>\n",
       "    <tr>\n",
       "      <th>23</th>\n",
       "      <td>1166</td>\n",
       "      <td>38844329</td>\n",
       "      <td>{\"highly_relevant\": false, \"reasoning\": \"The d...</td>\n",
       "      <td>filter_spec_coding-with-ai</td>\n",
       "      <td>1704216874</td>\n",
       "    </tr>\n",
       "    <tr>\n",
       "      <th>24</th>\n",
       "      <td>1167</td>\n",
       "      <td>38844332</td>\n",
       "      <td>{\"highly_relevant\": false, \"reasoning\": \"This ...</td>\n",
       "      <td>filter_spec_coding-with-ai</td>\n",
       "      <td>1704216889</td>\n",
       "    </tr>\n",
       "    <tr>\n",
       "      <th>25</th>\n",
       "      <td>1168</td>\n",
       "      <td>38844461</td>\n",
       "      <td>{\"highly_relevant\": false, \"reasoning\": \"The d...</td>\n",
       "      <td>filter_spec_coding-with-ai</td>\n",
       "      <td>1704217494</td>\n",
       "    </tr>\n",
       "    <tr>\n",
       "      <th>26</th>\n",
       "      <td>1169</td>\n",
       "      <td>38844467</td>\n",
       "      <td>{\"highly_relevant\": false, \"reasoning\": \"The d...</td>\n",
       "      <td>filter_spec_coding-with-ai</td>\n",
       "      <td>1704217524</td>\n",
       "    </tr>\n",
       "    <tr>\n",
       "      <th>27</th>\n",
       "      <td>1170</td>\n",
       "      <td>38844530</td>\n",
       "      <td>{\"highly_relevant\": false, \"reasoning\": \"The d...</td>\n",
       "      <td>filter_spec_coding-with-ai</td>\n",
       "      <td>1704217793</td>\n",
       "    </tr>\n",
       "    <tr>\n",
       "      <th>28</th>\n",
       "      <td>1171</td>\n",
       "      <td>38844535</td>\n",
       "      <td>{\"highly_relevant\": false, \"reasoning\": \"The d...</td>\n",
       "      <td>filter_spec_coding-with-ai</td>\n",
       "      <td>1704217810</td>\n",
       "    </tr>\n",
       "    <tr>\n",
       "      <th>29</th>\n",
       "      <td>1172</td>\n",
       "      <td>38844580</td>\n",
       "      <td>{\"highly_relevant\": false, \"reasoning\": \"While...</td>\n",
       "      <td>filter_spec_coding-with-ai</td>\n",
       "      <td>1704217982</td>\n",
       "    </tr>\n",
       "  </tbody>\n",
       "</table>\n",
       "</div>"
      ],
      "text/plain": [
       "      id  document_id                                              value  \\\n",
       "0   1143     38844042  {\"highly_relevant\": false, \"reasoning\": \"The d...   \n",
       "1   1144     38844138  {\"highly_relevant\": false, \"reasoning\": \"The d...   \n",
       "2   1145     38844202  {\"highly_relevant\": false, \"reasoning\": \"The d...   \n",
       "3   1146     38844272  {\"highly_relevant\": false, \"reasoning\": \"The d...   \n",
       "4   1147     38844332  {\"highly_relevant\": false, \"reasoning\": \"The d...   \n",
       "5   1148     38844467  {\"highly_relevant\": false, \"reasoning\": \"While...   \n",
       "6   1149     38844535  {\"highly_relevant\": false, \"reasoning\": \"The d...   \n",
       "7   1150     38844550  {\"highly_relevant\": false, \"reasoning\": \"The d...   \n",
       "8   1151     38844580  {\"highly_relevant\": false, \"reasoning\": \"While...   \n",
       "9   1152     38843862  {\"highly_relevant\": false, \"reasoning\": \"The d...   \n",
       "10  1153     38843894  {\"highly_relevant\": false, \"reasoning\": \"While...   \n",
       "11  1154     38843986  {\"highly_relevant\": false, \"reasoning\": \"The d...   \n",
       "12  1155     38844008  {\"highly_relevant\": false, \"reasoning\": \"The d...   \n",
       "13  1156     38844042  {\"highly_relevant\": false, \"reasoning\": \"The d...   \n",
       "14  1157     38844079  {\"highly_relevant\": false, \"reasoning\": \"The d...   \n",
       "15  1158     38844117  {\"highly_relevant\": false, \"reasoning\": \"The d...   \n",
       "16  1159     38844138  {\"highly_relevant\": false, \"reasoning\": \"The d...   \n",
       "17  1160     38844157  {\"highly_relevant\": false, \"reasoning\": \"The d...   \n",
       "18  1161     38844202  {\"highly_relevant\": false, \"reasoning\": \"The d...   \n",
       "19  1162     38844207  {\"highly_relevant\": false, \"reasoning\": \"The d...   \n",
       "20  1163     38844272  {\"highly_relevant\": false, \"reasoning\": \"The d...   \n",
       "21  1164     38844279  {\"highly_relevant\": false, \"reasoning\": \"The d...   \n",
       "22  1165     38844312  {\"highly_relevant\": false, \"reasoning\": \"While...   \n",
       "23  1166     38844329  {\"highly_relevant\": false, \"reasoning\": \"The d...   \n",
       "24  1167     38844332  {\"highly_relevant\": false, \"reasoning\": \"This ...   \n",
       "25  1168     38844461  {\"highly_relevant\": false, \"reasoning\": \"The d...   \n",
       "26  1169     38844467  {\"highly_relevant\": false, \"reasoning\": \"The d...   \n",
       "27  1170     38844530  {\"highly_relevant\": false, \"reasoning\": \"The d...   \n",
       "28  1171     38844535  {\"highly_relevant\": false, \"reasoning\": \"The d...   \n",
       "29  1172     38844580  {\"highly_relevant\": false, \"reasoning\": \"While...   \n",
       "\n",
       "                         label  created_at  \n",
       "0              filter_spec_iac  1704215683  \n",
       "1              filter_spec_iac  1704216090  \n",
       "2              filter_spec_iac  1704216395  \n",
       "3              filter_spec_iac  1704216703  \n",
       "4              filter_spec_iac  1704216889  \n",
       "5              filter_spec_iac  1704217524  \n",
       "6              filter_spec_iac  1704217810  \n",
       "7              filter_spec_iac  1704217862  \n",
       "8              filter_spec_iac  1704217982  \n",
       "9   filter_spec_coding-with-ai  1704214875  \n",
       "10  filter_spec_coding-with-ai  1704214985  \n",
       "11  filter_spec_coding-with-ai  1704215390  \n",
       "12  filter_spec_coding-with-ai  1704215470  \n",
       "13  filter_spec_coding-with-ai  1704215683  \n",
       "14  filter_spec_coding-with-ai  1704215861  \n",
       "15  filter_spec_coding-with-ai  1704216018  \n",
       "16  filter_spec_coding-with-ai  1704216090  \n",
       "17  filter_spec_coding-with-ai  1704216177  \n",
       "18  filter_spec_coding-with-ai  1704216395  \n",
       "19  filter_spec_coding-with-ai  1704216430  \n",
       "20  filter_spec_coding-with-ai  1704216703  \n",
       "21  filter_spec_coding-with-ai  1704216716  \n",
       "22  filter_spec_coding-with-ai  1704216820  \n",
       "23  filter_spec_coding-with-ai  1704216874  \n",
       "24  filter_spec_coding-with-ai  1704216889  \n",
       "25  filter_spec_coding-with-ai  1704217494  \n",
       "26  filter_spec_coding-with-ai  1704217524  \n",
       "27  filter_spec_coding-with-ai  1704217793  \n",
       "28  filter_spec_coding-with-ai  1704217810  \n",
       "29  filter_spec_coding-with-ai  1704217982  "
      ]
     },
     "execution_count": 53,
     "metadata": {},
     "output_type": "execute_result"
    }
   ],
   "source": [
    "import pytz\n",
    "\n",
    "local_tz = pytz.timezone('UTC')  # Replace with your local timezone\n",
    "start_time = local_tz.localize(datetime(2024, 1, 2, 17))\n",
    "end_time = local_tz.localize(datetime(2024, 1, 2, 18))\n",
    "\n",
    "conn = sqlite3.connect(db_path)\n",
    "query = '''\n",
    "  SELECT * FROM document_attribute WHERE created_at >= ? AND created_at < ?\n",
    "'''\n",
    "params = (start_time.timestamp(), end_time.timestamp())\n",
    "\n",
    "df = pd.read_sql_query(query, conn, params=params)\n",
    "conn.close()\n",
    "\n",
    "df\n"
   ]
  },
  {
   "cell_type": "code",
   "execution_count": 72,
   "metadata": {},
   "outputs": [
    {
     "data": {
      "text/markdown": [
       "1179 The document provided is a comprehensive listing and description of various open-source projects related to climate change, sustainable energy, biodiversity, and natural resources. While it includes a wide variety of projects and tools dealing with environmental and energy-related data, it does not focus on Infrastructure as Code (IaC) or infrastructure deployment and definition tools. There are no mentions of tools such as Terraform, Pulumi, Cloud Formation, or others within the specified ecosystem. Therefore, the document does not align with the specified interest in IaC, infrastructure deployment, or related cutting-edge tools and ecosystems, making it not highly relevant."
      ],
      "text/plain": [
       "<IPython.core.display.Markdown object>"
      ]
     },
     "metadata": {},
     "output_type": "display_data"
    },
    {
     "data": {
      "text/markdown": [
       "1186 The document content is entirely about Bootstrap, a front-end framework for web development, which is not related to Infrastructure as Code (IaC) or any of the tools and techniques mentioned in your search description. It doesn't cover topics like infrastructure deployment, infrastructure definition tools, or any of the ecosystems or cutting-edge tools relevant to IaC. Therefore, this document is not highly relevant to your interests."
      ],
      "text/plain": [
       "<IPython.core.display.Markdown object>"
      ]
     },
     "metadata": {},
     "output_type": "display_data"
    },
    {
     "data": {
      "text/markdown": [
       "1192 The document primarily focuses on Conduktor's achievement of SOC 2 Type II compliance, detailing the process they went through and the tools they used, like Drata for compliance automation. While it does touch on infrastructure-related topics such as security policies, vulnerability management, and penetration testing, it does not specifically focus on or provide novel insights related to IaC tools or ecosystems such as Terraform, Pulumi, or others listed in your search description. The primary topic is SOC 2 compliance and not infrastructure deployment or definition tools, making it not highly relevant to your interests."
      ],
      "text/plain": [
       "<IPython.core.display.Markdown object>"
      ]
     },
     "metadata": {},
     "output_type": "display_data"
    },
    {
     "data": {
      "text/markdown": [
       "1200 The document primarily focuses on societal and technological predictions around self-driving cars, robotics, AI, machine learning, spaceflight, and electric vehicles. Although these are significant topics in technology, the content does not mention or relate to IaC (Infrastructure as Code), infrastructure deployment, or tools and techniques in this domain. Therefore, it is not aligned with your specific interest in popular IaC tools like Terraform, Pulumi, CloudFormation, and related ecosystems. The document lacks insights, news, or analysis specifically about the infrastructure management and automation tools you're looking for."
      ],
      "text/plain": [
       "<IPython.core.display.Markdown object>"
      ]
     },
     "metadata": {},
     "output_type": "display_data"
    },
    {
     "data": {
      "text/markdown": [
       "1207 The document provides a detailed technical overview of the creation of bgammon.org, a project involving a backgammon server and client using open source tools like Linux and the Go programming language. It covers aspects like server efficiency, command protocols, and various libraries utilized in the project. However, the document does not discuss topics related to infrastructure as code (IaC), infrastructure deployment, or any of the tools and ecosystems mentioned in the search description such as Terraform, Pulumi, CloudFormation, or any related tools like Terragrunt or Spacelift. The primary focus is on game server development and associated technologies, which falls outside the domain specified in the search description."
      ],
      "text/plain": [
       "<IPython.core.display.Markdown object>"
      ]
     },
     "metadata": {},
     "output_type": "display_data"
    },
    {
     "data": {
      "text/markdown": [
       "1210 While the document provides an in-depth discussion about Arm and its business model, it does not directly address topics related to IaC (Infrastructure as Code), infrastructure deployment, or infrastructure definition tools such as Terraform, Pulumi, Cloud Formation, or any of the tools in their ecosystems. The primary focus is on chip design and manufacturing, licensing models, and the semiconductor industry, which falls outside the specified interests in infrastructure management and IaC tools."
      ],
      "text/plain": [
       "<IPython.core.display.Markdown object>"
      ]
     },
     "metadata": {},
     "output_type": "display_data"
    },
    {
     "data": {
      "text/markdown": [
       "1212 The document content is largely focused on personal reflections and resolutions for the year 2024. It does not discuss Infrastructure as Code (IaC), infrastructure deployment tools, or related ecosystems like Terraform, Pulumi, or Google Cloud Deployment Manager, nor does it provide insights or news on relevant cutting-edge tools or technologies within this domain. As such, it does not align with the specified interest in IaC tools and techniques or offer insights into associated systems, making it irrelevant to your search criteria."
      ],
      "text/plain": [
       "<IPython.core.display.Markdown object>"
      ]
     },
     "metadata": {},
     "output_type": "display_data"
    },
    {
     "data": {
      "text/markdown": [
       "1213 The document primarily focuses on Bash scripting, specifically the usage of flags in Bash scripts. Although Bash scripting can be used in infrastructure automation, the content is fundamentally a general tutorial on Bash. It details basic programming concepts, command-line argument parsing, and error handling in Bash scripting, which is not directly related to Infrastructure as Code (IaC) or tools specifically designed for infrastructure deployment and management. Therefore, it does not align with the specified interests in tools and techniques related to IaC like Terraform, Pulumi, CloudFormation, etc. An additional brief mention of an infrastructure monitoring tool (Atatus) at the end does not sufficiently shift the focus towards the primary domain of infrastructure management and thus remains irrelevant to the core interest."
      ],
      "text/plain": [
       "<IPython.core.display.Markdown object>"
      ]
     },
     "metadata": {},
     "output_type": "display_data"
    },
    {
     "data": {
      "text/markdown": [
       "1215 While the document offers a sweeping analysis of the history and impact of AI and automation on social and labor dynamics, it does not focus specifically on IaC or infrastructure deployment tools like Terraform, Pulumi, or CloudFormation. The discussion is more centered around the philosophical and socio-political implications of automation and AI, rather than on specific infrastructure as code tools, techniques, or their ecosystems. Thus, it does not align with your expressed interest in concrete tools and technologies in the IaC domain."
      ],
      "text/plain": [
       "<IPython.core.display.Markdown object>"
      ]
     },
     "metadata": {},
     "output_type": "display_data"
    },
    {
     "data": {
      "text/markdown": [
       "1173 The document content focuses on the 'I Hate AI License,' which explicitly disallows the use of licensed content with AI technologies. This is counter to your interest in new developments, tools, techniques, and services that leverage AI to write code. While it is tangentially related to AI, it does not provide any information about how AI is used in coding, nor does it discuss any new AI tools, techniques, or use cases that match your specific interests. Therefore, it is not highly relevant to your stated preferences."
      ],
      "text/plain": [
       "<IPython.core.display.Markdown object>"
      ]
     },
     "metadata": {},
     "output_type": "display_data"
    },
    {
     "data": {
      "text/markdown": [
       "1174 While the document delves into legislative details regarding free and open-source software and their regulation in the EU, it does not align closely with your specified interest in new developments in coding with AI, particularly involving large language models like GPT-4, Anthropics, or LLaMA3. The document focuses more on legal and regulatory aspects rather than novel insights, tools, or techniques used in AI to enhance coding efforts. It does not cover any specific instances of developers using AI to write code, nor does it discuss new products or services that leverage AI for coding purposes. Therefore, it does not meet your criteria for highly relevant content."
      ],
      "text/plain": [
       "<IPython.core.display.Markdown object>"
      ]
     },
     "metadata": {},
     "output_type": "display_data"
    },
    {
     "data": {
      "text/markdown": [
       "1177 The document does not address new developments in the area of coding with AI, nor does it discuss tools, products, or techniques for writing code using AI. It primarily focuses on the market share and updates for different versions of the Windows operating system. While there is a mention of AI-infused assistance (Copilot) being introduced in Windows 10, the document does not provide details on how developers are using this AI to write code. Therefore, it does not align with your specified interests in groundbreaking AI-driven coding techniques, tools, or services, making it irrelevant to your search criteria."
      ],
      "text/plain": [
       "<IPython.core.display.Markdown object>"
      ]
     },
     "metadata": {},
     "output_type": "display_data"
    },
    {
     "data": {
      "text/markdown": [
       "1178 The document content is focused on the methodology and results of a psychological study related to scene perception and place memory, specifically looking at participant responses in trials involving imagery and familiar landmarks. There is no mention of coding with AI, tools, or techniques for writing code using AI, new products or services that enhance coding with AI, or any discussion of related ecosystems or groundbreaking technologies in this domain. Therefore, it does not align with the specified interests in developments and insights related to coding with AI."
      ],
      "text/plain": [
       "<IPython.core.display.Markdown object>"
      ]
     },
     "metadata": {},
     "output_type": "display_data"
    },
    {
     "data": {
      "text/markdown": [
       "1179 The document focuses on open source projects related to sustainable technology and renewable energy. While it lists various tools and software relevant to renewable energy and climate change, it does not pertain to AI in coding or any developments in using AI to write code. It also does not include any references to large language models or related tools and services for coding, which are the primary areas of interest according to the search description. Thus, this document does not meet the specified criteria for relevance."
      ],
      "text/plain": [
       "<IPython.core.display.Markdown object>"
      ]
     },
     "metadata": {},
     "output_type": "display_data"
    },
    {
     "data": {
      "text/markdown": [
       "1183 The document is a personal memoir from a former Unity employee recounting their experiences and trivia from their time at Unity. While it provides an interesting historical perspective on the development of Unity, it does not focus on new tools, techniques, or developments in AI-driven coding. The content does not align with your specific interests in AI tools and techniques for writing code, new products and services in that area, or novel insights on the use of large language models for coding. Therefore, it is not highly relevant to your interests."
      ],
      "text/plain": [
       "<IPython.core.display.Markdown object>"
      ]
     },
     "metadata": {},
     "output_type": "display_data"
    },
    {
     "data": {
      "text/markdown": [
       "1185 The document primarily focuses on the analysis of hybrid encryption methodologies and arguments against them by the NSA and GCHQ. While this is a significant topic within the domain of cybersecurity and cryptographic practices, it does not align with the specific interests expressed in the search description. You are particularly interested in new developments, tools, techniques, and products related to coding with AI, involving large language models like GPT-4, Anthropics, or Llama-3. This document does not pertain to AI coding tools, techniques, or case studies about developers using AI to write code, which are the central focus of your interest. Therefore, it is not relevant."
      ],
      "text/plain": [
       "<IPython.core.display.Markdown object>"
      ]
     },
     "metadata": {},
     "output_type": "display_data"
    },
    {
     "data": {
      "text/markdown": [
       "1186 The document content is primarily about the Bootstrap front-end framework, including its documentation, installation, and contribution guidelines. It does not mention or relate to coding with AI, AI tools, or techniques for writing code using AI. There is no discussion about large language models, AI-assisted coding tools, infrastructures like Terraform, or novel insights into how developers use AI for coding. Thus, it does not align with the search description and interests in AI developments and coding tools, products, or techniques."
      ],
      "text/plain": [
       "<IPython.core.display.Markdown object>"
      ]
     },
     "metadata": {},
     "output_type": "display_data"
    },
    {
     "data": {
      "text/markdown": [
       "1189 The document primarily focuses on the potential impact of AI on housing economics and housing politics. It discusses how AI might affect various sectors, specifically housing, and how consumer behavior might change in response to AI-induced productivity gains. There is no mention of tools, products, services, or techniques related to coding with AI, nor does it cover any specific use cases or developments in the area of using AI to write code. Therefore, it does not align with your interest in new developments in coding with AI or the tools and techniques for writing code using AI, making it irrelevant to your specified interests."
      ],
      "text/plain": [
       "<IPython.core.display.Markdown object>"
      ]
     },
     "metadata": {},
     "output_type": "display_data"
    },
    {
     "data": {
      "text/markdown": [
       "1192 The document primarily focuses on Conduktor’s journey towards achieving SOC 2 Type II compliance, detailing the processes, challenges, and takeaways from their experience. Although it touches on various tools and best practices for security and compliance, it does not address new developments, tools, or techniques specifically related to using AI for writing code. Moreover, it does not include any discussion on large language models, coding with AI, or related ecosystems and tools as described in the search description. Therefore, it is not highly relevant to the specified interests."
      ],
      "text/plain": [
       "<IPython.core.display.Markdown object>"
      ]
     },
     "metadata": {},
     "output_type": "display_data"
    },
    {
     "data": {
      "text/markdown": [
       "1193 The document primarily discusses the philosophy of modeling as a fundamental skill akin to literacy, rather than focusing on tools, techniques, or products related to coding with AI. It does not address developments in AI-assisted coding or provide examples of how developers use AI to write code. The content is more about the conceptual framework of modeling systems, rather than practical insights or news about AI tools and services used in coding, which is the primary interest as specified in the search description."
      ],
      "text/plain": [
       "<IPython.core.display.Markdown object>"
      ]
     },
     "metadata": {},
     "output_type": "display_data"
    },
    {
     "data": {
      "text/markdown": [
       "1200 The document content predominantly focuses on the accuracy of predictions relating to various technological fields such as self-driving cars, electric cars, flying cars, and human spaceflight. While it does mention AI within the broader context of robotics, AI, and machine learning, it predominantly discusses generative AI and large language models in general terms and not specifically about new tools, techniques, products, or detailed developer experiences using AI for coding. It lacks the emphasis on detailed, practical implementations of AI in coding, new AI tools, or advancements related to technologies in the ecosystem of programming tools. Thus, it does not align closely with your specified interest in new developments in the area of coding with AI and related tools, products, or services."
      ],
      "text/plain": [
       "<IPython.core.display.Markdown object>"
      ]
     },
     "metadata": {},
     "output_type": "display_data"
    },
    {
     "data": {
      "text/markdown": [
       "1203 The document describes the implementation and usage of a <live-template> element connected to a LiveState backend, largely focusing on how it operates and integrates with a stateful backend application. While this involves technology relevant to coding and state management, it does not specifically address AI-driven development or the use of large language models like GPT-4, Anthropic, or LLaMA3 in coding. Moreover, it doesn't discuss groundbreaking new techniques or tools that leverage AI for code writing or managing infrastructure, nor does it include any analysis or novel insights in the domain of AI-assisted coding. Therefore, it does not align with your specified interest in developments in coding with AI and tools in that ecosystem."
      ],
      "text/plain": [
       "<IPython.core.display.Markdown object>"
      ]
     },
     "metadata": {},
     "output_type": "display_data"
    },
    {
     "data": {
      "text/markdown": [
       "1204 While the document discusses coding assistance tools, such as GitHub Copilot, which falls within the general domain of AI-assisted coding, it does not fulfill the specific criteria outlined in the search description. The content mainly focuses on the subjective usefulness of in-line code generation tools in the IDE and does not provide novel insights or detailed accounts of developers using AI to write code, especially in the context of leveraging large language models like GPT-4, Anthropics, or LLaMA3. Additionally, it does not mention any new developments, feature announcements, or groundbreaking techniques related to AI and coding, which are key interests specified in the request."
      ],
      "text/plain": [
       "<IPython.core.display.Markdown object>"
      ]
     },
     "metadata": {},
     "output_type": "display_data"
    },
    {
     "data": {
      "text/markdown": [
       "1206 The document content provided contains generic information related to GitHub's interface for merging pull requests and managing suggestions. It does not contain any information about new developments in the area of coding with AI, tools, products, or techniques that use large language models, or related technologies. Therefore, it does not align at all with your specified interest in groundbreaking tools, techniques, and developments for coding with AI."
      ],
      "text/plain": [
       "<IPython.core.display.Markdown object>"
      ]
     },
     "metadata": {},
     "output_type": "display_data"
    },
    {
     "data": {
      "text/markdown": [
       "1207 This document provides a technical overview of creating a backgammon server and client using open-source tools like Linux, Go, and VSCodium. While the content is technical and in-depth, it does not discuss new developments in the area of coding with AI, tools or techniques for writing code using AI, or new products and services that use AI to improve coding. There are also no mentions of any tools or ecosystems related to AI-powered coding tools such as large language models (GPT-4, Anthropic, LLaMA), nor any infrastructure management tools like Terragrunt or Spacelift. The document focuses solely on the creation of a specific software project without any reference to AI in the coding process."
      ],
      "text/plain": [
       "<IPython.core.display.Markdown object>"
      ]
     },
     "metadata": {},
     "output_type": "display_data"
    },
    {
     "data": {
      "text/markdown": [
       "1209 The document is primarily focused on PostgreSQL, including its latest features, security fixes, and community achievements in 2023. While PostgreSQL is an important database system, it does not directly relate to new developments in coding with AI, AI tools for writing code, or groundbreaking techniques in that area. The content does not mention the use of large language models for coding, AI-driven tools, or products and services in the realm of AI and coding. Therefore, it does not align with the specific interests outlined in your search description."
      ],
      "text/plain": [
       "<IPython.core.display.Markdown object>"
      ]
     },
     "metadata": {},
     "output_type": "display_data"
    },
    {
     "data": {
      "text/markdown": [
       "1210 The document is an interview with Rene Haas, CEO of Arm, and discusses the role of Arm in the semiconductor industry, its business model, and its relationships with various customers. While it provides an in-depth look at a significant tech company, it is not focused on new developments in coding with AI, tools, products, or techniques using large language models to write code. It does not document how developers have used AI to write code nor does it discuss ecosystem tools or groundbreaking new techniques specifically related to AI in coding. Therefore, it is not relevant to your specific interests."
      ],
      "text/plain": [
       "<IPython.core.display.Markdown object>"
      ]
     },
     "metadata": {},
     "output_type": "display_data"
    },
    {
     "data": {
      "text/markdown": [
       "1211 The document primarily discusses a legal incident involving the misuse of an AI tool (Google Bard) to generate fake citations in court documents. While it mentions the use of generative AI, the focus is not on new developments, tools, techniques, or products in the area of coding with AI. Specifically, it does not detail how a developer has used AI to write code or document any novel insights, tools, or services directly related to AI coding practices. Therefore, it does not align with the specific area of interest you've outlined."
      ],
      "text/plain": [
       "<IPython.core.display.Markdown object>"
      ]
     },
     "metadata": {},
     "output_type": "display_data"
    },
    {
     "data": {
      "text/markdown": [
       "1212 The document primarily focuses on the author's personal resolutions and reflections for the year 2024, encompassing topics such as health, reading, learning, writing, work, authenticity, and social values. It does not address your specific interest in developments in the area of coding with AI, including tools, techniques, products, or services that use AI to improve coding. There is no mention of large language models, tools like terragrunt or spacelift, or related technologies. Therefore, it does not align with your specified interests and is not highly relevant."
      ],
      "text/plain": [
       "<IPython.core.display.Markdown object>"
      ]
     },
     "metadata": {},
     "output_type": "display_data"
    },
    {
     "data": {
      "text/markdown": [
       "1215 While the document provides an extensive analysis of the history, social implications, and theoretical foundations of AI, it does not focus on practical applications, tools, or techniques for writing code with AI. The content primarily delves into the socio-political context and historical perspective of AI, rather than offering insights into cutting-edge tools, products, or methods used to enhance coding with AI, which is the specific interest noted in the search description."
      ],
      "text/plain": [
       "<IPython.core.display.Markdown object>"
      ]
     },
     "metadata": {},
     "output_type": "display_data"
    }
   ],
   "source": [
    "import json\n",
    "from IPython.display import display, Markdown\n",
    "\n",
    "\n",
    "conn = sqlite3.connect(db_path)\n",
    "query = '''\n",
    "  SELECT * FROM document_attribute WHERE created_at >= ? AND created_at < ?\n",
    "'''\n",
    "params = (start_time.timestamp(), end_time.timestamp())\n",
    "\n",
    "df = pd.read_sql_query(query, conn, params=params)\n",
    "conn.close()\n",
    "\n",
    "for index, row in df.iterrows():\n",
    "    display(Markdown(f\"{row['document_id']} {json.loads(row['value'])['reasoning']}\"))\n"
   ]
  },
  {
   "cell_type": "code",
   "execution_count": 87,
   "metadata": {},
   "outputs": [
    {
     "name": "stdout",
     "output_type": "stream",
     "text": [
      "Collecting qgrid\n",
      "  Downloading qgrid-1.3.1.tar.gz (889 kB)\n",
      "\u001b[2K     \u001b[90m━━━━━━━━━━━━━━━━━━━━━━━━━━━━━━━━━━━━━━━\u001b[0m \u001b[32m889.2/889.2 kB\u001b[0m \u001b[31m7.3 MB/s\u001b[0m eta \u001b[36m0:00:00\u001b[0m00:01\u001b[0m00:01\u001b[0m\n",
      "\u001b[?25h  Preparing metadata (setup.py) ... \u001b[?25ldone\n",
      "\u001b[?25hCollecting notebook>=4.0.0\n",
      "  Downloading notebook-7.2.1-py3-none-any.whl (5.0 MB)\n",
      "\u001b[2K     \u001b[90m━━━━━━━━━━━━━━━━━━━━━━━━━━━━━━━━━━━━━━━━\u001b[0m \u001b[32m5.0/5.0 MB\u001b[0m \u001b[31m29.5 MB/s\u001b[0m eta \u001b[36m0:00:00\u001b[0m00:01\u001b[0m00:01\u001b[0m\n",
      "\u001b[?25hRequirement already satisfied: pandas>=0.18.0 in /Users/leighstewart/Workspace/curate1/.venv/lib/python3.11/site-packages (from qgrid) (2.2.2)\n",
      "Collecting ipywidgets>=7.0.0\n",
      "  Downloading ipywidgets-8.1.3-py3-none-any.whl (139 kB)\n",
      "\u001b[2K     \u001b[90m━━━━━━━━━━━━━━━━━━━━━━━━━━━━━━━━━━━━━━━\u001b[0m \u001b[32m139.4/139.4 kB\u001b[0m \u001b[31m4.8 MB/s\u001b[0m eta \u001b[36m0:00:00\u001b[0m\n",
      "\u001b[?25hRequirement already satisfied: comm>=0.1.3 in /Users/leighstewart/Workspace/curate1/.venv/lib/python3.11/site-packages (from ipywidgets>=7.0.0->qgrid) (0.2.2)\n",
      "Requirement already satisfied: ipython>=6.1.0 in /Users/leighstewart/Workspace/curate1/.venv/lib/python3.11/site-packages (from ipywidgets>=7.0.0->qgrid) (8.25.0)\n",
      "Requirement already satisfied: traitlets>=4.3.1 in /Users/leighstewart/Workspace/curate1/.venv/lib/python3.11/site-packages (from ipywidgets>=7.0.0->qgrid) (5.14.3)\n",
      "Collecting widgetsnbextension~=4.0.11\n",
      "  Downloading widgetsnbextension-4.0.11-py3-none-any.whl (2.3 MB)\n",
      "\u001b[2K     \u001b[90m━━━━━━━━━━━━━━━━━━━━━━━━━━━━━━━━━━━━━━━━\u001b[0m \u001b[32m2.3/2.3 MB\u001b[0m \u001b[31m44.2 MB/s\u001b[0m eta \u001b[36m0:00:00\u001b[0mta \u001b[36m0:00:01\u001b[0m\n",
      "\u001b[?25hCollecting jupyterlab-widgets~=3.0.11\n",
      "  Downloading jupyterlab_widgets-3.0.11-py3-none-any.whl (214 kB)\n",
      "\u001b[2K     \u001b[90m━━━━━━━━━━━━━━━━━━━━━━━━━━━━━━━━━━━━━━━\u001b[0m \u001b[32m214.4/214.4 kB\u001b[0m \u001b[31m7.8 MB/s\u001b[0m eta \u001b[36m0:00:00\u001b[0m\n",
      "\u001b[?25hCollecting jupyter-server<3,>=2.4.0\n",
      "  Downloading jupyter_server-2.14.1-py3-none-any.whl (383 kB)\n",
      "\u001b[2K     \u001b[90m━━━━━━━━━━━━━━━━━━━━━━━━━━━━━━━━━━━━━━\u001b[0m \u001b[32m383.4/383.4 kB\u001b[0m \u001b[31m10.3 MB/s\u001b[0m eta \u001b[36m0:00:00\u001b[0m\n",
      "\u001b[?25hCollecting jupyterlab-server<3,>=2.27.1\n",
      "  Downloading jupyterlab_server-2.27.2-py3-none-any.whl (59 kB)\n",
      "\u001b[2K     \u001b[90m━━━━━━━━━━━━━━━━━━━━━━━━━━━━━━━━━━━━━━━━\u001b[0m \u001b[32m59.4/59.4 kB\u001b[0m \u001b[31m2.0 MB/s\u001b[0m eta \u001b[36m0:00:00\u001b[0m\n",
      "\u001b[?25hCollecting jupyterlab<4.3,>=4.2.0\n",
      "  Downloading jupyterlab-4.2.3-py3-none-any.whl (11.6 MB)\n",
      "\u001b[2K     \u001b[90m━━━━━━━━━━━━━━━━━━━━━━━━━━━━━━━━━━━━━━━━\u001b[0m \u001b[32m11.6/11.6 MB\u001b[0m \u001b[31m35.7 MB/s\u001b[0m eta \u001b[36m0:00:00\u001b[0m00:01\u001b[0m00:01\u001b[0m\n",
      "\u001b[?25hCollecting notebook-shim<0.3,>=0.2\n",
      "  Downloading notebook_shim-0.2.4-py3-none-any.whl (13 kB)\n",
      "Requirement already satisfied: tornado>=6.2.0 in /Users/leighstewart/Workspace/curate1/.venv/lib/python3.11/site-packages (from notebook>=4.0.0->qgrid) (6.4.1)\n",
      "Requirement already satisfied: numpy>=1.23.2 in /Users/leighstewart/Workspace/curate1/.venv/lib/python3.11/site-packages (from pandas>=0.18.0->qgrid) (1.26.4)\n",
      "Requirement already satisfied: python-dateutil>=2.8.2 in /Users/leighstewart/Workspace/curate1/.venv/lib/python3.11/site-packages (from pandas>=0.18.0->qgrid) (2.9.0.post0)\n",
      "Requirement already satisfied: pytz>=2020.1 in /Users/leighstewart/Workspace/curate1/.venv/lib/python3.11/site-packages (from pandas>=0.18.0->qgrid) (2024.1)\n",
      "Requirement already satisfied: tzdata>=2022.7 in /Users/leighstewart/Workspace/curate1/.venv/lib/python3.11/site-packages (from pandas>=0.18.0->qgrid) (2024.1)\n",
      "Requirement already satisfied: decorator in /Users/leighstewart/Workspace/curate1/.venv/lib/python3.11/site-packages (from ipython>=6.1.0->ipywidgets>=7.0.0->qgrid) (5.1.1)\n",
      "Requirement already satisfied: jedi>=0.16 in /Users/leighstewart/Workspace/curate1/.venv/lib/python3.11/site-packages (from ipython>=6.1.0->ipywidgets>=7.0.0->qgrid) (0.19.1)\n",
      "Requirement already satisfied: matplotlib-inline in /Users/leighstewart/Workspace/curate1/.venv/lib/python3.11/site-packages (from ipython>=6.1.0->ipywidgets>=7.0.0->qgrid) (0.1.7)\n",
      "Requirement already satisfied: prompt-toolkit<3.1.0,>=3.0.41 in /Users/leighstewart/Workspace/curate1/.venv/lib/python3.11/site-packages (from ipython>=6.1.0->ipywidgets>=7.0.0->qgrid) (3.0.47)\n",
      "Requirement already satisfied: pygments>=2.4.0 in /Users/leighstewart/Workspace/curate1/.venv/lib/python3.11/site-packages (from ipython>=6.1.0->ipywidgets>=7.0.0->qgrid) (2.18.0)\n",
      "Requirement already satisfied: stack-data in /Users/leighstewart/Workspace/curate1/.venv/lib/python3.11/site-packages (from ipython>=6.1.0->ipywidgets>=7.0.0->qgrid) (0.6.3)\n",
      "Requirement already satisfied: typing-extensions>=4.6 in /Users/leighstewart/Workspace/curate1/.venv/lib/python3.11/site-packages (from ipython>=6.1.0->ipywidgets>=7.0.0->qgrid) (4.12.2)\n",
      "Requirement already satisfied: pexpect>4.3 in /Users/leighstewart/Workspace/curate1/.venv/lib/python3.11/site-packages (from ipython>=6.1.0->ipywidgets>=7.0.0->qgrid) (4.9.0)\n",
      "Requirement already satisfied: anyio>=3.1.0 in /Users/leighstewart/Workspace/curate1/.venv/lib/python3.11/site-packages (from jupyter-server<3,>=2.4.0->notebook>=4.0.0->qgrid) (4.4.0)\n",
      "Collecting argon2-cffi>=21.1\n",
      "  Downloading argon2_cffi-23.1.0-py3-none-any.whl (15 kB)\n",
      "Requirement already satisfied: jinja2>=3.0.3 in /Users/leighstewart/Workspace/curate1/.venv/lib/python3.11/site-packages (from jupyter-server<3,>=2.4.0->notebook>=4.0.0->qgrid) (3.1.4)\n",
      "Requirement already satisfied: jupyter-client>=7.4.4 in /Users/leighstewart/Workspace/curate1/.venv/lib/python3.11/site-packages (from jupyter-server<3,>=2.4.0->notebook>=4.0.0->qgrid) (8.6.2)\n",
      "Requirement already satisfied: jupyter-core!=5.0.*,>=4.12 in /Users/leighstewart/Workspace/curate1/.venv/lib/python3.11/site-packages (from jupyter-server<3,>=2.4.0->notebook>=4.0.0->qgrid) (5.7.2)\n",
      "Collecting jupyter-events>=0.9.0\n",
      "  Downloading jupyter_events-0.10.0-py3-none-any.whl (18 kB)\n",
      "Collecting jupyter-server-terminals>=0.4.4\n",
      "  Downloading jupyter_server_terminals-0.5.3-py3-none-any.whl (13 kB)\n",
      "Collecting nbconvert>=6.4.4\n",
      "  Downloading nbconvert-7.16.4-py3-none-any.whl (257 kB)\n",
      "\u001b[2K     \u001b[90m━━━━━━━━━━━━━━━━━━━━━━━━━━━━━━━━━━━━━━━\u001b[0m \u001b[32m257.4/257.4 kB\u001b[0m \u001b[31m9.2 MB/s\u001b[0m eta \u001b[36m0:00:00\u001b[0m\n",
      "\u001b[?25hCollecting nbformat>=5.3.0\n",
      "  Downloading nbformat-5.10.4-py3-none-any.whl (78 kB)\n",
      "\u001b[2K     \u001b[90m━━━━━━━━━━━━━━━━━━━━━━━━━━━━━━━━━━━━━━━━\u001b[0m \u001b[32m78.5/78.5 kB\u001b[0m \u001b[31m2.8 MB/s\u001b[0m eta \u001b[36m0:00:00\u001b[0mta \u001b[36m0:00:01\u001b[0m\n",
      "\u001b[?25hCollecting overrides>=5.0\n",
      "  Using cached overrides-7.7.0-py3-none-any.whl (17 kB)\n",
      "Requirement already satisfied: packaging>=22.0 in /Users/leighstewart/Workspace/curate1/.venv/lib/python3.11/site-packages (from jupyter-server<3,>=2.4.0->notebook>=4.0.0->qgrid) (24.1)\n",
      "Collecting prometheus-client>=0.9\n",
      "  Downloading prometheus_client-0.20.0-py3-none-any.whl (54 kB)\n",
      "\u001b[2K     \u001b[90m━━━━━━━━━━━━━━━━━━━━━━━━━━━━━━━━━━━━━━━━\u001b[0m \u001b[32m54.5/54.5 kB\u001b[0m \u001b[31m2.0 MB/s\u001b[0m eta \u001b[36m0:00:00\u001b[0m\n",
      "\u001b[?25hRequirement already satisfied: pyzmq>=24 in /Users/leighstewart/Workspace/curate1/.venv/lib/python3.11/site-packages (from jupyter-server<3,>=2.4.0->notebook>=4.0.0->qgrid) (26.0.3)\n",
      "Collecting send2trash>=1.8.2\n",
      "  Downloading Send2Trash-1.8.3-py3-none-any.whl (18 kB)\n",
      "Collecting terminado>=0.8.3\n",
      "  Downloading terminado-0.18.1-py3-none-any.whl (14 kB)\n",
      "Collecting websocket-client>=1.7\n",
      "  Downloading websocket_client-1.8.0-py3-none-any.whl (58 kB)\n",
      "\u001b[2K     \u001b[90m━━━━━━━━━━━━━━━━━━━━━━━━━━━━━━━━━━━━━━━━\u001b[0m \u001b[32m58.8/58.8 kB\u001b[0m \u001b[31m2.0 MB/s\u001b[0m eta \u001b[36m0:00:00\u001b[0m\n",
      "\u001b[?25hCollecting async-lru>=1.0.0\n",
      "  Downloading async_lru-2.0.4-py3-none-any.whl (6.1 kB)\n",
      "Requirement already satisfied: httpx>=0.25.0 in /Users/leighstewart/Workspace/curate1/.venv/lib/python3.11/site-packages (from jupyterlab<4.3,>=4.2.0->notebook>=4.0.0->qgrid) (0.27.0)\n",
      "Requirement already satisfied: ipykernel>=6.5.0 in /Users/leighstewart/Workspace/curate1/.venv/lib/python3.11/site-packages (from jupyterlab<4.3,>=4.2.0->notebook>=4.0.0->qgrid) (6.29.4)\n",
      "Collecting jupyter-lsp>=2.0.0\n",
      "  Downloading jupyter_lsp-2.2.5-py3-none-any.whl (69 kB)\n",
      "\u001b[2K     \u001b[90m━━━━━━━━━━━━━━━━━━━━━━━━━━━━━━━━━━━━━━━━\u001b[0m \u001b[32m69.1/69.1 kB\u001b[0m \u001b[31m1.8 MB/s\u001b[0m eta \u001b[36m0:00:00\u001b[0mta \u001b[36m0:00:01\u001b[0m\n",
      "\u001b[?25hRequirement already satisfied: setuptools>=40.1.0 in /Users/leighstewart/Workspace/curate1/.venv/lib/python3.11/site-packages (from jupyterlab<4.3,>=4.2.0->notebook>=4.0.0->qgrid) (69.2.0)\n",
      "Collecting babel>=2.10\n",
      "  Downloading Babel-2.15.0-py3-none-any.whl (9.6 MB)\n",
      "\u001b[2K     \u001b[90m━━━━━━━━━━━━━━━━━━━━━━━━━━━━━━━━━━━━━━━━\u001b[0m \u001b[32m9.6/9.6 MB\u001b[0m \u001b[31m27.4 MB/s\u001b[0m eta \u001b[36m0:00:00\u001b[0m00:01\u001b[0m00:01\u001b[0m\n",
      "\u001b[?25hCollecting json5>=0.9.0\n",
      "  Downloading json5-0.9.25-py3-none-any.whl (30 kB)\n",
      "Requirement already satisfied: jsonschema>=4.18.0 in /Users/leighstewart/Workspace/curate1/.venv/lib/python3.11/site-packages (from jupyterlab-server<3,>=2.27.1->notebook>=4.0.0->qgrid) (4.22.0)\n",
      "Requirement already satisfied: requests>=2.31 in /Users/leighstewart/Workspace/curate1/.venv/lib/python3.11/site-packages (from jupyterlab-server<3,>=2.27.1->notebook>=4.0.0->qgrid) (2.32.3)\n",
      "Requirement already satisfied: six>=1.5 in /Users/leighstewart/Workspace/curate1/.venv/lib/python3.11/site-packages (from python-dateutil>=2.8.2->pandas>=0.18.0->qgrid) (1.16.0)\n",
      "Requirement already satisfied: idna>=2.8 in /Users/leighstewart/Workspace/curate1/.venv/lib/python3.11/site-packages (from anyio>=3.1.0->jupyter-server<3,>=2.4.0->notebook>=4.0.0->qgrid) (3.7)\n",
      "Requirement already satisfied: sniffio>=1.1 in /Users/leighstewart/Workspace/curate1/.venv/lib/python3.11/site-packages (from anyio>=3.1.0->jupyter-server<3,>=2.4.0->notebook>=4.0.0->qgrid) (1.3.1)\n",
      "Collecting argon2-cffi-bindings\n",
      "  Using cached argon2_cffi_bindings-21.2.0-cp38-abi3-macosx_10_9_universal2.whl (53 kB)\n",
      "Requirement already satisfied: certifi in /Users/leighstewart/Workspace/curate1/.venv/lib/python3.11/site-packages (from httpx>=0.25.0->jupyterlab<4.3,>=4.2.0->notebook>=4.0.0->qgrid) (2024.6.2)\n",
      "Requirement already satisfied: httpcore==1.* in /Users/leighstewart/Workspace/curate1/.venv/lib/python3.11/site-packages (from httpx>=0.25.0->jupyterlab<4.3,>=4.2.0->notebook>=4.0.0->qgrid) (1.0.5)\n",
      "Requirement already satisfied: h11<0.15,>=0.13 in /Users/leighstewart/Workspace/curate1/.venv/lib/python3.11/site-packages (from httpcore==1.*->httpx>=0.25.0->jupyterlab<4.3,>=4.2.0->notebook>=4.0.0->qgrid) (0.14.0)\n",
      "Requirement already satisfied: appnope in /Users/leighstewart/Workspace/curate1/.venv/lib/python3.11/site-packages (from ipykernel>=6.5.0->jupyterlab<4.3,>=4.2.0->notebook>=4.0.0->qgrid) (0.1.4)\n",
      "Requirement already satisfied: debugpy>=1.6.5 in /Users/leighstewart/Workspace/curate1/.venv/lib/python3.11/site-packages (from ipykernel>=6.5.0->jupyterlab<4.3,>=4.2.0->notebook>=4.0.0->qgrid) (1.8.1)\n",
      "Requirement already satisfied: nest-asyncio in /Users/leighstewart/Workspace/curate1/.venv/lib/python3.11/site-packages (from ipykernel>=6.5.0->jupyterlab<4.3,>=4.2.0->notebook>=4.0.0->qgrid) (1.6.0)\n",
      "Requirement already satisfied: psutil in /Users/leighstewart/Workspace/curate1/.venv/lib/python3.11/site-packages (from ipykernel>=6.5.0->jupyterlab<4.3,>=4.2.0->notebook>=4.0.0->qgrid) (5.9.8)\n",
      "Requirement already satisfied: parso<0.9.0,>=0.8.3 in /Users/leighstewart/Workspace/curate1/.venv/lib/python3.11/site-packages (from jedi>=0.16->ipython>=6.1.0->ipywidgets>=7.0.0->qgrid) (0.8.4)\n",
      "Requirement already satisfied: MarkupSafe>=2.0 in /Users/leighstewart/Workspace/curate1/.venv/lib/python3.11/site-packages (from jinja2>=3.0.3->jupyter-server<3,>=2.4.0->notebook>=4.0.0->qgrid) (2.1.5)\n",
      "Requirement already satisfied: attrs>=22.2.0 in /Users/leighstewart/Workspace/curate1/.venv/lib/python3.11/site-packages (from jsonschema>=4.18.0->jupyterlab-server<3,>=2.27.1->notebook>=4.0.0->qgrid) (23.2.0)\n",
      "Requirement already satisfied: jsonschema-specifications>=2023.03.6 in /Users/leighstewart/Workspace/curate1/.venv/lib/python3.11/site-packages (from jsonschema>=4.18.0->jupyterlab-server<3,>=2.27.1->notebook>=4.0.0->qgrid) (2023.12.1)\n",
      "Requirement already satisfied: referencing>=0.28.4 in /Users/leighstewart/Workspace/curate1/.venv/lib/python3.11/site-packages (from jsonschema>=4.18.0->jupyterlab-server<3,>=2.27.1->notebook>=4.0.0->qgrid) (0.35.1)\n",
      "Requirement already satisfied: rpds-py>=0.7.1 in /Users/leighstewart/Workspace/curate1/.venv/lib/python3.11/site-packages (from jsonschema>=4.18.0->jupyterlab-server<3,>=2.27.1->notebook>=4.0.0->qgrid) (0.18.1)\n",
      "Requirement already satisfied: platformdirs>=2.5 in /Users/leighstewart/Workspace/curate1/.venv/lib/python3.11/site-packages (from jupyter-core!=5.0.*,>=4.12->jupyter-server<3,>=2.4.0->notebook>=4.0.0->qgrid) (4.2.2)\n",
      "Collecting python-json-logger>=2.0.4\n",
      "  Using cached python_json_logger-2.0.7-py3-none-any.whl (8.1 kB)\n",
      "Requirement already satisfied: pyyaml>=5.3 in /Users/leighstewart/Workspace/curate1/.venv/lib/python3.11/site-packages (from jupyter-events>=0.9.0->jupyter-server<3,>=2.4.0->notebook>=4.0.0->qgrid) (6.0.1)\n",
      "Collecting rfc3339-validator\n",
      "  Using cached rfc3339_validator-0.1.4-py2.py3-none-any.whl (3.5 kB)\n",
      "Collecting rfc3986-validator>=0.1.1\n",
      "  Using cached rfc3986_validator-0.1.1-py2.py3-none-any.whl (4.2 kB)\n",
      "Requirement already satisfied: beautifulsoup4 in /Users/leighstewart/Workspace/curate1/.venv/lib/python3.11/site-packages (from nbconvert>=6.4.4->jupyter-server<3,>=2.4.0->notebook>=4.0.0->qgrid) (4.12.3)\n",
      "Collecting bleach!=5.0.0\n",
      "  Downloading bleach-6.1.0-py3-none-any.whl (162 kB)\n",
      "\u001b[2K     \u001b[90m━━━━━━━━━━━━━━━━━━━━━━━━━━━━━━━━━━━━━━━\u001b[0m \u001b[32m162.8/162.8 kB\u001b[0m \u001b[31m6.5 MB/s\u001b[0m eta \u001b[36m0:00:00\u001b[0m\n",
      "\u001b[?25hCollecting defusedxml\n",
      "  Using cached defusedxml-0.7.1-py2.py3-none-any.whl (25 kB)\n",
      "Collecting jupyterlab-pygments\n",
      "  Downloading jupyterlab_pygments-0.3.0-py3-none-any.whl (15 kB)\n",
      "Collecting mistune<4,>=2.0.3\n",
      "  Downloading mistune-3.0.2-py3-none-any.whl (47 kB)\n",
      "\u001b[2K     \u001b[90m━━━━━━━━━━━━━━━━━━━━━━━━━━━━━━━━━━━━━━━━\u001b[0m \u001b[32m48.0/48.0 kB\u001b[0m \u001b[31m1.7 MB/s\u001b[0m eta \u001b[36m0:00:00\u001b[0m\n",
      "\u001b[?25hCollecting nbclient>=0.5.0\n",
      "  Downloading nbclient-0.10.0-py3-none-any.whl (25 kB)\n",
      "Collecting pandocfilters>=1.4.1\n",
      "  Downloading pandocfilters-1.5.1-py2.py3-none-any.whl (8.7 kB)\n",
      "Collecting tinycss2\n",
      "  Downloading tinycss2-1.3.0-py3-none-any.whl (22 kB)\n",
      "Collecting fastjsonschema>=2.15\n",
      "  Downloading fastjsonschema-2.20.0-py3-none-any.whl (23 kB)\n",
      "Requirement already satisfied: ptyprocess>=0.5 in /Users/leighstewart/Workspace/curate1/.venv/lib/python3.11/site-packages (from pexpect>4.3->ipython>=6.1.0->ipywidgets>=7.0.0->qgrid) (0.7.0)\n",
      "Requirement already satisfied: wcwidth in /Users/leighstewart/Workspace/curate1/.venv/lib/python3.11/site-packages (from prompt-toolkit<3.1.0,>=3.0.41->ipython>=6.1.0->ipywidgets>=7.0.0->qgrid) (0.2.13)\n",
      "Requirement already satisfied: charset-normalizer<4,>=2 in /Users/leighstewart/Workspace/curate1/.venv/lib/python3.11/site-packages (from requests>=2.31->jupyterlab-server<3,>=2.27.1->notebook>=4.0.0->qgrid) (3.3.2)\n",
      "Requirement already satisfied: urllib3<3,>=1.21.1 in /Users/leighstewart/Workspace/curate1/.venv/lib/python3.11/site-packages (from requests>=2.31->jupyterlab-server<3,>=2.27.1->notebook>=4.0.0->qgrid) (2.2.1)\n",
      "Requirement already satisfied: executing>=1.2.0 in /Users/leighstewart/Workspace/curate1/.venv/lib/python3.11/site-packages (from stack-data->ipython>=6.1.0->ipywidgets>=7.0.0->qgrid) (2.0.1)\n",
      "Requirement already satisfied: asttokens>=2.1.0 in /Users/leighstewart/Workspace/curate1/.venv/lib/python3.11/site-packages (from stack-data->ipython>=6.1.0->ipywidgets>=7.0.0->qgrid) (2.4.1)\n",
      "Requirement already satisfied: pure-eval in /Users/leighstewart/Workspace/curate1/.venv/lib/python3.11/site-packages (from stack-data->ipython>=6.1.0->ipywidgets>=7.0.0->qgrid) (0.2.2)\n",
      "Collecting webencodings\n",
      "  Using cached webencodings-0.5.1-py2.py3-none-any.whl (11 kB)\n",
      "Collecting fqdn\n",
      "  Using cached fqdn-1.5.1-py3-none-any.whl (9.1 kB)\n",
      "Collecting isoduration\n",
      "  Using cached isoduration-20.11.0-py3-none-any.whl (11 kB)\n",
      "Collecting jsonpointer>1.13\n",
      "  Downloading jsonpointer-3.0.0-py2.py3-none-any.whl (7.6 kB)\n",
      "Collecting uri-template\n",
      "  Using cached uri_template-1.3.0-py3-none-any.whl (11 kB)\n",
      "Collecting webcolors>=1.11\n",
      "  Downloading webcolors-24.6.0-py3-none-any.whl (14 kB)\n",
      "Collecting cffi>=1.0.1\n",
      "  Downloading cffi-1.16.0-cp311-cp311-macosx_10_9_x86_64.whl (182 kB)\n",
      "\u001b[2K     \u001b[90m━━━━━━━━━━━━━━━━━━━━━━━━━━━━━━━━━━━━━━━\u001b[0m \u001b[32m182.4/182.4 kB\u001b[0m \u001b[31m6.6 MB/s\u001b[0m eta \u001b[36m0:00:00\u001b[0m\n",
      "\u001b[?25hRequirement already satisfied: soupsieve>1.2 in /Users/leighstewart/Workspace/curate1/.venv/lib/python3.11/site-packages (from beautifulsoup4->nbconvert>=6.4.4->jupyter-server<3,>=2.4.0->notebook>=4.0.0->qgrid) (2.5)\n",
      "Collecting pycparser\n",
      "  Downloading pycparser-2.22-py3-none-any.whl (117 kB)\n",
      "\u001b[2K     \u001b[90m━━━━━━━━━━━━━━━━━━━━━━━━━━━━━━━━━━━━━━━\u001b[0m \u001b[32m117.6/117.6 kB\u001b[0m \u001b[31m4.3 MB/s\u001b[0m eta \u001b[36m0:00:00\u001b[0m\n",
      "\u001b[?25hCollecting arrow>=0.15.0\n",
      "  Downloading arrow-1.3.0-py3-none-any.whl (66 kB)\n",
      "\u001b[2K     \u001b[90m━━━━━━━━━━━━━━━━━━━━━━━━━━━━━━━━━━━━━━━━\u001b[0m \u001b[32m66.4/66.4 kB\u001b[0m \u001b[31m2.3 MB/s\u001b[0m eta \u001b[36m0:00:00\u001b[0m\n",
      "\u001b[?25hCollecting types-python-dateutil>=2.8.10\n",
      "  Downloading types_python_dateutil-2.9.0.20240316-py3-none-any.whl (9.7 kB)\n",
      "Using legacy 'setup.py install' for qgrid, since package 'wheel' is not installed.\n",
      "Installing collected packages: webencodings, fastjsonschema, widgetsnbextension, websocket-client, webcolors, uri-template, types-python-dateutil, tinycss2, terminado, send2trash, rfc3986-validator, rfc3339-validator, python-json-logger, pycparser, prometheus-client, pandocfilters, overrides, mistune, jupyterlab-widgets, jupyterlab-pygments, jsonpointer, json5, fqdn, defusedxml, bleach, babel, async-lru, jupyter-server-terminals, cffi, arrow, isoduration, argon2-cffi-bindings, nbformat, ipywidgets, argon2-cffi, nbclient, jupyter-events, nbconvert, jupyter-server, notebook-shim, jupyterlab-server, jupyter-lsp, jupyterlab, notebook, qgrid\n",
      "  Running setup.py install for qgrid ... \u001b[?25ldone\n",
      "\u001b[?25hSuccessfully installed argon2-cffi-23.1.0 argon2-cffi-bindings-21.2.0 arrow-1.3.0 async-lru-2.0.4 babel-2.15.0 bleach-6.1.0 cffi-1.16.0 defusedxml-0.7.1 fastjsonschema-2.20.0 fqdn-1.5.1 ipywidgets-8.1.3 isoduration-20.11.0 json5-0.9.25 jsonpointer-3.0.0 jupyter-events-0.10.0 jupyter-lsp-2.2.5 jupyter-server-2.14.1 jupyter-server-terminals-0.5.3 jupyterlab-4.2.3 jupyterlab-pygments-0.3.0 jupyterlab-server-2.27.2 jupyterlab-widgets-3.0.11 mistune-3.0.2 nbclient-0.10.0 nbconvert-7.16.4 nbformat-5.10.4 notebook-7.2.1 notebook-shim-0.2.4 overrides-7.7.0 pandocfilters-1.5.1 prometheus-client-0.20.0 pycparser-2.22 python-json-logger-2.0.7 qgrid-1.3.1 rfc3339-validator-0.1.4 rfc3986-validator-0.1.1 send2trash-1.8.3 terminado-0.18.1 tinycss2-1.3.0 types-python-dateutil-2.9.0.20240316 uri-template-1.3.0 webcolors-24.6.0 webencodings-0.5.1 websocket-client-1.8.0 widgetsnbextension-4.0.11\n",
      "\u001b[33mWARNING: There was an error checking the latest version of pip.\u001b[0m\u001b[33m\n",
      "\u001b[0mNote: you may need to restart the kernel to use updated packages.\n"
     ]
    }
   ],
   "source": [
    "\n",
    "pip install qgrid\n"
   ]
  },
  {
   "cell_type": "code",
   "execution_count": 104,
   "metadata": {},
   "outputs": [
    {
     "data": {
      "text/markdown": [
       "## The I Hate AI License \n",
       " I Hate AI License\n",
       "\n",
       "This license is designed to disallow the use of the licensed content in any way with AI technologies. It covers various forms of usage, including training, processing, and incorporation into AI-related applications.\n",
       "\n",
       "\"I HATE AI LICENSE\" Version 1.1, January 2024 Preamble: The \"I Hate AI License\" (IHAIL) is a copyleft license designed to express a strong disapproval of the use of Artificial Intelligence (AI) in any form, including but not limited to training, processing, and utilization of content covered by this license. Terms and Conditions: 1. Definitions: a. \"Licensed Content\" refers to the software, code, documentation, or any other creative work that is explicitly placed under this license. b. \"AI\" refers to any form of Artificial Intelligence, including machine lea \n",
       " The document content focuses on the 'I Hate AI License,' which explicitly disallows the use of licensed content with AI technologies. This is counter to your interest in new developments, tools, techniques, and services that leverage AI to write code. While it is tangentially related to AI, it does not provide any information about how AI is used in coding, nor does it discuss any new AI tools, techniques, or use cases that match your specific interests. Therefore, it is not highly relevant to your stated preferences."
      ],
      "text/plain": [
       "<IPython.core.display.Markdown object>"
      ]
     },
     "metadata": {},
     "output_type": "display_data"
    },
    {
     "data": {
      "text/markdown": [
       "## Free and Open in the Latest Draft of the EU Cyber Resilience Act \n",
       " January 2 , 2024\n",
       "\n",
       "Free and Open in the Latest Draft of the EU Cyber Resilience Act\n",
       "\n",
       "New provisions related to free and open software in the December 20 draft of the CRA:\n",
       "\n",
       "Recitals\n",
       "\n",
       "Recital 10\n",
       "\n",
       "This Regulation applies to economic operators only in relation to products with digital elements made available on the market, hence supplied for distribution or use on the Union market in the course of a commercial activity. The supply in the course of a commercial activity might be characterized not only by charging a price for a product , but also by charging a price for technical support services when this does not serve only the recuperation of actual costs, or by an intention to monetise , for instance by providing a software platform through which the manufacturer monetises other services, by  \n",
       " While the document delves into legislative details regarding free and open-source software and their regulation in the EU, it does not align closely with your specified interest in new developments in coding with AI, particularly involving large language models like GPT-4, Anthropics, or LLaMA3. The document focuses more on legal and regulatory aspects rather than novel insights, tools, or techniques used in AI to enhance coding efforts. It does not cover any specific instances of developers using AI to write code, nor does it discuss new products or services that leverage AI for coding purposes. Therefore, it does not meet your criteria for highly relevant content."
      ],
      "text/plain": [
       "<IPython.core.display.Markdown object>"
      ]
     },
     "metadata": {},
     "output_type": "display_data"
    },
    {
     "data": {
      "text/markdown": [
       "## Windows 11 unable to escape the shadow of Windows 10 \n",
       " Many users are still steering clear of Windows 11 as Microsoft continues to shovel AI into its flagship operating system and prepares updates to mollify regulators.\n",
       "\n",
       "The latest figures from Statcounter – there are no official numbers from Microsoft itself – paint a grim picture for the Windows vendor. Windows 10 does not appear to be going anywhere: in December 2022 it accounted for 67.95 percent of the market share and by December 2023 the figure was 67.42 percent.\n",
       "\n",
       "Windows 12: Savior of PC makers, or just an apology for Windows 11? READ MORE\n",
       "\n",
       "Despite the updates lavished on Windows 11 during that twelve-month timeframe, Windows 10 still reigns supreme.\n",
       "\n",
       "Windows 11 grew from a market share of 16.97 percent in December 2022 to 26.54 percent in December 2023, although it is debatable how mu \n",
       " The document does not address new developments in the area of coding with AI, nor does it discuss tools, products, or techniques for writing code using AI. It primarily focuses on the market share and updates for different versions of the Windows operating system. While there is a mention of AI-infused assistance (Copilot) being introduced in Windows 10, the document does not provide details on how developers are using this AI to write code. Therefore, it does not align with your specified interests in groundbreaking AI-driven coding techniques, tools, or services, making it irrelevant to your search criteria."
      ],
      "text/plain": [
       "<IPython.core.display.Markdown object>"
      ]
     },
     "metadata": {},
     "output_type": "display_data"
    },
    {
     "data": {
      "text/markdown": [
       "## Retinotopic code structures the interaction between perception and memory \n",
       " Recall trials were identical to the trials used in the localizer. Participants fixated on a dot projected in the center of the screen. They were then cued with the stimulus to be recalled for 1 second, followed by a 1 s dynamic mask, and 10 seconds of imagery. Trials were separated by a 4-8 s jittered interstimulus interval. Participants completed 32 imagery trials (16 for each landmark) separated into two imaging runs. One participant was excluded from the analysis for lack of familiarity with the landmarks; the remaining participants were familiar with the locations and had lived in the Hanover area for at least one year. Two participants did not have -pRFs in the ventral surface regions of interest. We tested for the relationship between +/− pRFs in the scene perception and place memory \n",
       " The document content is focused on the methodology and results of a psychological study related to scene perception and place memory, specifically looking at participant responses in trials involving imagery and familiar landmarks. There is no mention of coding with AI, tools, or techniques for writing code using AI, new products or services that enhance coding with AI, or any discussion of related ecosystems or groundbreaking technologies in this domain. Therefore, it does not align with the specified interests in developments and insights related to coding with AI."
      ],
      "text/plain": [
       "<IPython.core.display.Markdown object>"
      ]
     },
     "metadata": {},
     "output_type": "display_data"
    },
    {
     "data": {
      "text/markdown": [
       "## Open Sustainable Technology \n",
       " Open Sustainable Technology¶\n",
       "\n",
       "A directory and analysis of the open source ecosystem in the areas of climate change, sustainable energy, biodiversity and natural resources.\n",
       "\n",
       "\n",
       "\n",
       "Earth's uniqueness in creating a stable environment for life in a completely hostile space is a miracle. Various life forms have taken billions of years to build up the natural resources humans depend on, such as a protective atmosphere, fertile soil, stable weather, and clean drinking water. As a movement to democratize technology development and knowledge creation, open source has the potential to become the central driver in preserving this stability. Open Sustainable Technology's mission is to gather projects that preserve natural ecosystems through open technology, methods, data, intelligence, knowledge or tools. \n",
       " The document focuses on open source projects related to sustainable technology and renewable energy. While it lists various tools and software relevant to renewable energy and climate change, it does not pertain to AI in coding or any developments in using AI to write code. It also does not include any references to large language models or related tools and services for coding, which are the primary areas of interest according to the search description. Thus, this document does not meet the specified criteria for relevance."
      ],
      "text/plain": [
       "<IPython.core.display.Markdown object>"
      ]
     },
     "metadata": {},
     "output_type": "display_data"
    },
    {
     "data": {
      "text/markdown": [
       "## Two years ago: left Unity \n",
       " I left Unity at start of 2022. So for this lazy Tuesday afternoon, figured I can share the rambles I wrote in my goodbye email. No big insights there, just old man reminiscing. And hey the text is already written, so that makes it easy to copy-pasta it into the blog:\n",
       "\n",
       "It’s now exactly 16 years of me working at Unity. And as everyone knows, if you don’t leave after 16 years, you have to wait until 32 years for your next chance (look, I don’t make the rules). It’s time for me to log off and watch this thing from the outside.\n",
       "\n",
       "So, yeah, bye! Thanks everyone for this amazing journey! ❤️\n",
       "\n",
       "…\n",
       "\n",
       "However! @alexmclean suggested I should write up some random bits of trivia from the old times. You know, like your grandpa is always telling stories from his youth, and you have to listen no matter whether \n",
       " The document is a personal memoir from a former Unity employee recounting their experiences and trivia from their time at Unity. While it provides an interesting historical perspective on the development of Unity, it does not focus on new tools, techniques, or developments in AI-driven coding. The content does not align with your specific interests in AI tools and techniques for writing code, new products and services in that area, or novel insights on the use of large language models for coding. Therefore, it is not highly relevant to your interests."
      ],
      "text/plain": [
       "<IPython.core.display.Markdown object>"
      ]
     },
     "metadata": {},
     "output_type": "display_data"
    },
    {
     "data": {
      "text/markdown": [
       "## Double encryption: Analyzing the NSA/GCHQ arguments against hybrids \n",
       " The cr.yp.to blog\n",
       "\n",
       "2024.01.02: Double encryption: Analyzing the NSA/GCHQ arguments against hybrids. #nsa #quantification #risks #complexity #costs\n",
       "\n",
       "In 2019, Google and Cloudflare ran an experiment where they upgraded HTTPS for many \"real users’ connections\" to use post-quantum encryption. They then reported statistics on how affordable this was. Google had also run a similar experiment in 2016: \"While it's still very early days for quantum computers, we're excited to begin preparing for them, and to help ensure our users' data will remain secure long into the future.\"\n",
       "\n",
       "Sounds great! Except that, oops, the 2016 experiment ran into patent trouble. And, oops, half of the post-quantum connections in the 2019 experiment used SIKE, which in 2022 was shown by public attacks to be efficiently brea \n",
       " The document primarily focuses on the analysis of hybrid encryption methodologies and arguments against them by the NSA and GCHQ. While this is a significant topic within the domain of cybersecurity and cryptographic practices, it does not align with the specific interests expressed in the search description. You are particularly interested in new developments, tools, techniques, and products related to coding with AI, involving large language models like GPT-4, Anthropics, or Llama-3. This document does not pertain to AI coding tools, techniques, or case studies about developers using AI to write code, which are the central focus of your interest. Therefore, it is not relevant."
      ],
      "text/plain": [
       "<IPython.core.display.Markdown object>"
      ]
     },
     "metadata": {},
     "output_type": "display_data"
    },
    {
     "data": {
      "text/markdown": [
       "## Bootstrap version popularity shows Bootstrap 3 still most popular \n",
       " Bootstrap\n",
       "\n",
       "Sleek, intuitive, and powerful front-end framework for faster and easier web development.\n",
       "\n",
       "Explore Bootstrap docs »\n",
       "\n",
       "\n",
       "\n",
       "Report bug · Request feature · Themes · Blog\n",
       "\n",
       "Bootstrap 5\n",
       "\n",
       "Our default branch is for development of our Bootstrap 5 release. Head to the v4-dev branch to view the readme, documentation, and source code for Bootstrap 4.\n",
       "\n",
       "Table of contents\n",
       "\n",
       "Quick start\n",
       "\n",
       "Several quick start options are available:\n",
       "\n",
       "Download the latest release\n",
       "\n",
       "Clone the repo: git clone https://github.com/twbs/bootstrap.git\n",
       "\n",
       "Install with npm: npm install bootstrap@v5.3.3\n",
       "\n",
       "Install with yarn: yarn add bootstrap@v5.3.3\n",
       "\n",
       "Install with Composer: composer require twbs/bootstrap:5.3.3\n",
       "\n",
       "Install with NuGet: CSS: Install-Package bootstrap Sass: Install-Package bootstrap.sass\n",
       "\n",
       "Read the Getting started page for i \n",
       " The document content is primarily about the Bootstrap front-end framework, including its documentation, installation, and contribution guidelines. It does not mention or relate to coding with AI, AI tools, or techniques for writing code using AI. There is no discussion about large language models, AI-assisted coding tools, infrastructures like Terraform, or novel insights into how developers use AI for coding. Thus, it does not align with the search description and interests in AI developments and coding tools, products, or techniques."
      ],
      "text/plain": [
       "<IPython.core.display.Markdown object>"
      ]
     },
     "metadata": {},
     "output_type": "display_data"
    },
    {
     "data": {
      "text/markdown": [
       "## Hopefully, AI will create a perpetual housing crisis \n",
       " I don’t know how successful artificial intelligence will be. But let’s agree, for the moment, to consider a reasonably optimistic case where AI delivers significant productivity gains across a broad range of tasks – but not in a way that radically alters our Newtonian constraints. What would happen to housing economics and, consequently, housing politics?\n",
       "\n",
       "TL;DR\n",
       "\n",
       "Construction won’t be much affected by AI.\n",
       "\n",
       "Consumers will be richer and spend a bigger share of their incomes on housing.\n",
       "\n",
       "The stakes around housing policy will only grow.\n",
       "\n",
       "Single-pen log house, Indiana (nyttend)\n",
       "\n",
       "Inscriptibility\n",
       "\n",
       "Karl Marx divided the economic world into capital and labor. More recent economists have frequently (and self-regardingly) divided labor into low-skill and high-skill. In an AI world, we need to start t \n",
       " The document primarily focuses on the potential impact of AI on housing economics and housing politics. It discusses how AI might affect various sectors, specifically housing, and how consumer behavior might change in response to AI-induced productivity gains. There is no mention of tools, products, services, or techniques related to coding with AI, nor does it cover any specific use cases or developments in the area of using AI to write code. Therefore, it does not align with your interest in new developments in coding with AI or the tools and techniques for writing code using AI, making it irrelevant to your specified interests."
      ],
      "text/plain": [
       "<IPython.core.display.Markdown object>"
      ]
     },
     "metadata": {},
     "output_type": "display_data"
    },
    {
     "data": {
      "text/markdown": [
       "## SOC2: What we learned? Write what you do. Do what you write \n",
       " We are excited to announce that Conduktor has successfully completed a System and Organization Controls (SOC) 2 Type II audit [...] the SOC 2 information security audit provides a report on the examination of controls relevant to the trust services criteria categories covering security, availability, processing integrity, confidentiality, and privacy. [...] Conduktor’s SOC 2 Type II report did not have any noted exceptions and was therefore issued with a “clean” audit opinion from Sensiba.\n",
       "\n",
       "Good news! This is what we received a few days ago from our auditors. As we are quite proud of this, we wanted to share what we learned from all of this.\n",
       "\n",
       "Conduktor provides a Data Security Platform for Apache Kafka. We improve Kafka security and data governance, while simplifying complex architectures. \n",
       " The document primarily focuses on Conduktor’s journey towards achieving SOC 2 Type II compliance, detailing the processes, challenges, and takeaways from their experience. Although it touches on various tools and best practices for security and compliance, it does not address new developments, tools, or techniques specifically related to using AI for writing code. Moreover, it does not include any discussion on large language models, coding with AI, or related ecosystems and tools as described in the search description. Therefore, it is not highly relevant to the specified interests."
      ],
      "text/plain": [
       "<IPython.core.display.Markdown object>"
      ]
     },
     "metadata": {},
     "output_type": "display_data"
    },
    {
     "data": {
      "text/markdown": [
       "## Coding is not the new literacy \n",
       " Despite the good intentions behind the movement to get people to code, both the basic premise and approach are flawed. The movement sits on the idea that “coding is the new literacy,” but that takes a narrow view of what literacy really is.\n",
       "\n",
       "If you ask google to define literacy it gives a mechanical definition:\n",
       "\n",
       "the ability to read and write.\n",
       "\n",
       "This is certainly accurate, but defining literacy as interpreting and making marks on a sheet of paper is grossly inadequate. Reading and writing are the physical actions we use to employ something far more important: external, distributable storage for the mind. Being literate isn’t simply a matter of being able to put words on the page, it’s solidifying our thoughts such that they can be written. Interpreting and applying someone else’s thoughts is \n",
       " The document primarily discusses the philosophy of modeling as a fundamental skill akin to literacy, rather than focusing on tools, techniques, or products related to coding with AI. It does not address developments in AI-assisted coding or provide examples of how developers use AI to write code. The content is more about the conceptual framework of modeling systems, rather than practical insights or news about AI tools and services used in coding, which is the primary interest as specified in the search description."
      ],
      "text/plain": [
       "<IPython.core.display.Markdown object>"
      ]
     },
     "metadata": {},
     "output_type": "display_data"
    },
    {
     "data": {
      "text/markdown": [
       "## Predictions Scorecard, 2024 January 01 \n",
       " [You can follow me on social media: @rodneyabrooks.bsky.social]\n",
       "\n",
       "This is my sixth annual update on how my dated predictions from January 1st, 2018 concerning (1) self driving cars, (2) robotics, AI , and machine learning, and (3) human space travel, have held up. I promised then to review them at the start of the year every year until 2050 (right after my 95th birthday), thirty two years in total. The idea is to hold myself accountable for those predictions. How right or wrong was I?\n",
       "\n",
       "The acronyms I used for predictions in my original post were as follows.\n",
       "\n",
       "NET year means it will not happen before that year (No Earlier Than)\n",
       "\n",
       "BY year means I predict that it will happen by that year.\n",
       "\n",
       "NIML, Not In My Lifetime, i.e., not before 2050.\n",
       "\n",
       "As time passes mentioned years I color then as accurate,  \n",
       " The document content predominantly focuses on the accuracy of predictions relating to various technological fields such as self-driving cars, electric cars, flying cars, and human spaceflight. While it does mention AI within the broader context of robotics, AI, and machine learning, it predominantly discusses generative AI and large language models in general terms and not specifically about new tools, techniques, products, or detailed developer experiences using AI for coding. It lacks the emphasis on detailed, practical implementations of AI in coding, new AI tools, or advancements related to technologies in the ecosystem of programming tools. Thus, it does not align closely with your specified interest in new developments in the area of coding with AI and related tools, products, or services."
      ],
      "text/plain": [
       "<IPython.core.display.Markdown object>"
      ]
     },
     "metadata": {},
     "output_type": "display_data"
    },
    {
     "data": {
      "text/markdown": [
       "## Live Templates: connect a template in HTML to a stateful back end \n",
       " The <live-template> element provides a connected, or \"live\" template that connects to a stateful backend application provided by Livestate. After connecting to a LiveState channel, it will:\n",
       "\n",
       "render the initial state\n",
       "\n",
       "subscribe to state updates and re-render on changes\n",
       "\n",
       "push events to a Livestate channel which may then compute a new state\n",
       "\n",
       "Getting started\n",
       "\n",
       "Live templates are primarily designed to add dynamic functionality to a static html website. The provide a similar experience to technologies like LiveView, but with no opinions on back end hosting environment: (eg, it doesn't matter where your html is served).\n",
       "\n",
       "The easiest way to start is to open an html file and add a <live-template> element. Here's an example of what this looks like:\n",
       "\n",
       "< live-template url =\" wss://live-template-example. \n",
       " The document describes the implementation and usage of a <live-template> element connected to a LiveState backend, largely focusing on how it operates and integrates with a stateful backend application. While this involves technology relevant to coding and state management, it does not specifically address AI-driven development or the use of large language models like GPT-4, Anthropic, or LLaMA3 in coding. Moreover, it doesn't discuss groundbreaking new techniques or tools that leverage AI for code writing or managing infrastructure, nor does it include any analysis or novel insights in the domain of AI-assisted coding. Therefore, it does not align with your specified interest in developments in coding with AI and tools in that ecosystem."
      ],
      "text/plain": [
       "<IPython.core.display.Markdown object>"
      ]
     },
     "metadata": {},
     "output_type": "display_data"
    },
    {
     "data": {
      "text/markdown": [
       "## How is GenAI different from other code generators? \n",
       " In-line assistance - when is it more useful?\n",
       "\n",
       "The most widely used form of coding assistance in Thoughtworks at the moment is in-line code generation in the IDE, where an IDE extension generates suggestions for the developer as they are typing in the IDE.\n",
       "\n",
       "The short answer to the question, “Is this useful?” is: “Sometimes it is, sometimes it isn’t.” ¯_(ツ)_/¯ You will find a wide range of developer opinions on the internet, from “this made me so much faster” all the way to “I switched it off, it was useless”. That is because the usefulness of these tools depends on the circumstances. And the judgment of usefulness depends on how high your expectations are.\n",
       "\n",
       "What do I mean by “useful”?\n",
       "\n",
       "For the purposes of this memo, I’m defining “useful” as “the generated suggestions are helping me solve pr \n",
       " While the document discusses coding assistance tools, such as GitHub Copilot, which falls within the general domain of AI-assisted coding, it does not fulfill the specific criteria outlined in the search description. The content mainly focuses on the subjective usefulness of in-line code generation tools in the IDE and does not provide novel insights or detailed accounts of developers using AI to write code, especially in the context of leveraging large language models like GPT-4, Anthropics, or LLaMA3. Additionally, it does not mention any new developments, feature announcements, or groundbreaking techniques related to AI and coding, which are key interests specified in the request."
      ],
      "text/plain": [
       "<IPython.core.display.Markdown object>"
      ]
     },
     "metadata": {},
     "output_type": "display_data"
    },
    {
     "data": {
      "text/markdown": [
       "## Denied OBS PR regarding Kick support lights up \n",
       " None yet\n",
       "\n",
       "Successfully merging this pull request may close these issues.\n",
       "\n",
       "None yet\n",
       "\n",
       "None yet\n",
       "\n",
       "No one assigned\n",
       "\n",
       "This file contains bidirectional Unicode text that may be interpreted or compiled differently than what appears below. To review, open the file in an editor that reveals hidden Unicode characters. Learn more about bidirectional Unicode characters\n",
       "\n",
       "Already on GitHub? Sign in to your account\n",
       "\n",
       "By clicking “Sign up for GitHub”, you agree to our terms of service and privacy statement . We’ll occasionally send you account related emails.\n",
       "\n",
       "Have a question about this project? Sign up for a free GitHub account to open an issue and contact its maintainers and the community.\n",
       "\n",
       "Add this suggestion to a batch that can be applied as a single commit.\n",
       "\n",
       "This suggestion is invalid because no changes \n",
       " The document content provided contains generic information related to GitHub's interface for merging pull requests and managing suggestions. It does not contain any information about new developments in the area of coding with AI, tools, products, or techniques that use large language models, or related technologies. Therefore, it does not align at all with your specified interest in groundbreaking tools, techniques, and developments for coding with AI."
      ],
      "text/plain": [
       "<IPython.core.display.Markdown object>"
      ]
     },
     "metadata": {},
     "output_type": "display_data"
    },
    {
     "data": {
      "text/markdown": [
       "## The free software powering bgammon.org \n",
       " A technical overview of the software powering bgammon.org\n",
       "\n",
       "Introduction Link to heading\n",
       "\n",
       "In this post I share my experience with creating the bgammon.org server and client using free and open source tools. This includes Linux, the Go programming language and the VSCodium IDE.\n",
       "\n",
       "While lots of free and open source backgammon software exists, all of the servers that were available in late 2023 were proprietary. I have enjoyed playing chess on Lichess for several years, and have always admired their model: free and open source, no ads, no paid benefits and no registration requirement. They say immitation is the sincerest form of flattery.\n",
       "\n",
       "I created Boxcars, a graphical client for playing backgammon online, originally for the FIBS backgammon server in late 2021. The project was essentially feat \n",
       " This document provides a technical overview of creating a backgammon server and client using open-source tools like Linux, Go, and VSCodium. While the content is technical and in-depth, it does not discuss new developments in the area of coding with AI, tools or techniques for writing code using AI, or new products and services that use AI to improve coding. There are also no mentions of any tools or ecosystems related to AI-powered coding tools such as large language models (GPT-4, Anthropic, LLaMA), nor any infrastructure management tools like Terragrunt or Spacelift. The document focuses solely on the creation of a specific software project without any reference to AI in the coding process."
      ],
      "text/plain": [
       "<IPython.core.display.Markdown object>"
      ]
     },
     "metadata": {},
     "output_type": "display_data"
    },
    {
     "data": {
      "text/markdown": [
       "## Summary and Achievements of PostgreSQL, the DBMS of the Year 2023 \n",
       " Our team at HexaCluster likes to extend our heartfelt thanks to the vibrant community of Users, IT leaders, Contributors and the people behind PostgreSQL who made PostgreSQL what it is today. Your passion and support have made PostgreSQL a versatile and robust database system. PostgreSQL is one of the only Open Source databases known for its relational, unstructured, columnar, and vector database functionalities. Let us take a couple of minutes of our time to witness the PostgreSQL summary and achievements in 2023.\n",
       "\n",
       "PostgreSQL’s Popularity\n",
       "\n",
       "DB-Engines Rankings is widely recognized in the tech industry as a valuable tool for understanding trends and shifts in database technology. The rankings are updated monthly and provide insights into which databases are currently leading in terms of pop \n",
       " The document is primarily focused on PostgreSQL, including its latest features, security fixes, and community achievements in 2023. While PostgreSQL is an important database system, it does not directly relate to new developments in coding with AI, AI tools for writing code, or groundbreaking techniques in that area. The content does not mention the use of large language models for coding, AI-driven tools, or products and services in the realm of AI and coding. Therefore, it does not align with the specific interests outlined in your search description."
      ],
      "text/plain": [
       "<IPython.core.display.Markdown object>"
      ]
     },
     "metadata": {},
     "output_type": "display_data"
    },
    {
     "data": {
      "text/markdown": [
       "## Arm conquered the chip market without making a single chip \n",
       " One of the more interesting quirks of the modern tech world is that there’s a really important company at the center of it all that doesn’t make anything. But its work is in your phone, in your TV, your car, maybe even your laptop — and the data centers that keep all these things working.\n",
       "\n",
       "I’m talking about Arm, a chip design company that’s been through quite a lot these past few years. Arm designs the instruction sets for modern chips; Qualcomm, Apple, and Samsung chips are all Arm chips. Arm licenses the instruction sets to those companies, who then go off and actually make chips with all sorts of customizations. This model has been a runaway success.\n",
       "\n",
       "So today, I’m talking to Rene Haas, the newly minted CEO of Arm. I was curious about some basics: How does Arm make its money? Who are it \n",
       " The document is an interview with Rene Haas, CEO of Arm, and discusses the role of Arm in the semiconductor industry, its business model, and its relationships with various customers. While it provides an in-depth look at a significant tech company, it is not focused on new developments in coding with AI, tools, products, or techniques using large language models to write code. It does not document how developers have used AI to write code nor does it discuss ecosystem tools or groundbreaking new techniques specifically related to AI in coding. Therefore, it is not relevant to your specific interests."
      ],
      "text/plain": [
       "<IPython.core.display.Markdown object>"
      ]
     },
     "metadata": {},
     "output_type": "display_data"
    },
    {
     "data": {
      "text/markdown": [
       "## Lawyer accidentally used AI quotes \n",
       " Donald Trump's former attorney, Michael Cohen, admitted providing fake AI-generated court citations to his own lawyer, who failed to check whether the cited cases were real before submitting them in a court brief. Cohen said the fake court cases came from Google Bard and that he thought Bard was like \"a super‑charged search engine\" rather than a generative AI tool.\n",
       "\n",
       "As previously reported, Cohen's lawyer, David Schwartz, cited three cases that do not exist in a motion seeking early termination of Cohen's supervised release. The fake citations were meant to show previous instances in which defendants were allowed to end supervised release early—two involved fictional cocaine distributors and the other an invented tax evader.\n",
       "\n",
       "The brief provided case numbers, summaries, and ruling dates for  \n",
       " The document primarily discusses a legal incident involving the misuse of an AI tool (Google Bard) to generate fake citations in court documents. While it mentions the use of generative AI, the focus is not on new developments, tools, techniques, or products in the area of coding with AI. Specifically, it does not detail how a developer has used AI to write code or document any novel insights, tools, or services directly related to AI coding practices. Therefore, it does not align with the specific area of interest you've outlined."
      ],
      "text/plain": [
       "<IPython.core.display.Markdown object>"
      ]
     },
     "metadata": {},
     "output_type": "display_data"
    },
    {
     "data": {
      "text/markdown": [
       "## Looking Forward to 2024 \n",
       " Let’s get this out of the way first: 2024 is going to be a hard year across the board. Mass layoffs, another hottest year on record, escalating conflicts with enormous human tolls and flagrant human rights violations in Gaza and Ukraine, not just a declining media but a declining democracy, an oligarchic class that appears to actively reject any policies that might help the vulnerable communities they profit from, and a US general election with wide ramifications that nobody is looking forward to. On a macro level, the time from 2016 to now has felt like hard year after hard year, and I don’t believe it’s going to let up.\n",
       "\n",
       "I don’t think you can make personal resolutions (or talk about tech or anything else) without acknowledging that context. Sorry to be a downer: 2023 was a difficult year \n",
       " The document primarily focuses on the author's personal resolutions and reflections for the year 2024, encompassing topics such as health, reading, learning, writing, work, authenticity, and social values. It does not address your specific interest in developments in the area of coding with AI, including tools, techniques, products, or services that use AI to improve coding. There is no mention of large language models, tools like terragrunt or spacelift, or related technologies. Therefore, it does not align with your specified interests and is not highly relevant."
      ],
      "text/plain": [
       "<IPython.core.display.Markdown object>"
      ]
     },
     "metadata": {},
     "output_type": "display_data"
    },
    {
     "data": {
      "text/markdown": [
       "## The Automation of General Intelligence \n",
       " We want to ask the right questions. How do the tools work? Who finances and builds them, and how are they used? Whom do they enrich, and whom do they impoverish? What futures do they make feasible, and which ones do they foreclose? We’re not looking for answers. We’re looking for logic.\n",
       "\n",
       "—Logic Magazine manifesto, 2017 We live in the age of digital data, and in that age mathematics has become the parliament of politics. The social law has become interwoven with models, theorems and algorithms. With digital data, mathematics has become the dominant means in which human beings coordinate with technology … Mathematics is a human activity after all. Like any other human activity, it carries the possibilities of both emancipation and oppression.\n",
       "\n",
       "—Politically Mathematics manifesto, 2019 Relics  \n",
       " While the document provides an extensive analysis of the history, social implications, and theoretical foundations of AI, it does not focus on practical applications, tools, or techniques for writing code with AI. The content primarily delves into the socio-political context and historical perspective of AI, rather than offering insights into cutting-edge tools, products, or methods used to enhance coding with AI, which is the specific interest noted in the search description."
      ],
      "text/plain": [
       "<IPython.core.display.Markdown object>"
      ]
     },
     "metadata": {},
     "output_type": "display_data"
    }
   ],
   "source": [
    "conn = sqlite3.connect(db_path)\n",
    "query = '''\n",
    "  SELECT * FROM document\n",
    "  LEFT JOIN document_attribute ON document.id = document_attribute.document_id\n",
    "  WHERE document.created_at >= ? AND document.created_at < ?\n",
    "'''\n",
    "params = (start_time.timestamp(), end_time.timestamp())\n",
    "\n",
    "df = pd.read_sql_query(query, conn, params=params)\n",
    "conn.close()\n",
    "\n",
    "df['content_preview'] = df['content'].apply(lambda x: x[:800])\n",
    "df1 = df[['title', 'value', 'label', 'content_preview']]\n",
    "\n",
    "df2 = df1[df1['label'] == \"filter_spec_coding-with-ai\"]\n",
    "\n",
    "df2[['title', 'content_preview', 'value']]\n",
    "\n",
    "for index, row in df2.iterrows():\n",
    "    display(Markdown(f\"## {row['title']} \\n {row['content_preview']} \\n\\n\\n {json.loads(row['value'])['reasoning']}\"))\n"
   ]
  },
  {
   "cell_type": "code",
   "execution_count": 52,
   "metadata": {},
   "outputs": [
    {
     "data": {
      "text/html": [
       "<div>\n",
       "<style scoped>\n",
       "    .dataframe tbody tr th:only-of-type {\n",
       "        vertical-align: middle;\n",
       "    }\n",
       "\n",
       "    .dataframe tbody tr th {\n",
       "        vertical-align: top;\n",
       "    }\n",
       "\n",
       "    .dataframe thead th {\n",
       "        text-align: right;\n",
       "    }\n",
       "</style>\n",
       "<table border=\"1\" class=\"dataframe\">\n",
       "  <thead>\n",
       "    <tr style=\"text-align: right;\">\n",
       "      <th></th>\n",
       "      <th>id</th>\n",
       "      <th>title</th>\n",
       "      <th>content</th>\n",
       "      <th>source_url</th>\n",
       "      <th>created_at</th>\n",
       "    </tr>\n",
       "  </thead>\n",
       "  <tbody>\n",
       "  </tbody>\n",
       "</table>\n",
       "</div>"
      ],
      "text/plain": [
       "Empty DataFrame\n",
       "Columns: [id, title, content, source_url, created_at]\n",
       "Index: []"
      ]
     },
     "execution_count": 52,
     "metadata": {},
     "output_type": "execute_result"
    }
   ],
   "source": [
    "conn = sqlite3.connect(db_path)\n",
    "query = '''\n",
    "  SELECT * FROM document WHERE id = ?\n",
    "'''\n",
    "params = (38844042,)\n",
    "\n",
    "df = pd.read_sql_query(query, conn, params=params)\n",
    "conn.close()\n",
    "\n",
    "df\n"
   ]
  },
  {
   "cell_type": "code",
   "execution_count": 6,
   "metadata": {},
   "outputs": [
    {
     "data": {
      "text/plain": [
       "[]"
      ]
     },
     "execution_count": 6,
     "metadata": {},
     "output_type": "execute_result"
    }
   ],
   "source": [
    "\n",
    "\n"
   ]
  }
 ],
 "metadata": {
  "kernelspec": {
   "display_name": ".venv",
   "language": "python",
   "name": "python3"
  },
  "language_info": {
   "codemirror_mode": {
    "name": "ipython",
    "version": 3
   },
   "file_extension": ".py",
   "mimetype": "text/x-python",
   "name": "python",
   "nbconvert_exporter": "python",
   "pygments_lexer": "ipython3",
   "version": "3.11.9"
  }
 },
 "nbformat": 4,
 "nbformat_minor": 2
}
