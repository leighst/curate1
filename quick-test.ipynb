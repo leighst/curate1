{
 "cells": [
  {
   "cell_type": "code",
   "execution_count": null,
   "metadata": {},
   "outputs": [],
   "source": [
    "from transform import Transformer\n",
    "\n",
    "transformer = Transformer.from_env()\n",
    "\n",
    "doc1 = '''\n",
    "In a remarkable turn of events, a brave Charmander became an unexpected hero when a wildfire broke out in Viridian Forest yesterday afternoon. Local Pokémon Rangers reported that the fire, likely caused by a lightning strike, spread rapidly through the dry underbrush. As panic set in among the forest's inhabitants, Charmander's innate fire-handling abilities proved invaluable. Witnesses say the young Fire-type Pokémon used its ember control to create safe pathways and guide other Pokémon to safety, effectively acting as a living firebreak.\n",
    "Thanks to Charmander's quick thinking and courageous actions, the rangers were able to contain the blaze more effectively, minimizing damage to the forest and its ecosystem. \"Charmander's bravery undoubtedly saved many lives today,\" said Ranger Jenny. \"It's a reminder of how Pokémon and humans can work together in harmony to overcome natural disasters.\" Charmander, now hailed as a local hero, has inspired trainers and Pokémon alike, showcasing the true power of teamwork and resilience.\n",
    "'''\n",
    "spec = '''\n",
    "I am interested pokemon, but I am specifically interested in just two pokemon characters: Pikachu and Charmander.\n",
    "Any news about Pikachu and Charmander is highly relevant to me.\n",
    "Also any posts or writing about these two characters even if its not news, but just something about them, perhaps their history or some theory about what makes them tick.\n",
    "'''\n",
    "docs = [doc1]\n",
    "\n",
    "transformer.filter_spec(docs, spec)\n",
    "\n"
   ]
  }
 ],
 "metadata": {
  "language_info": {
   "name": "python"
  }
 },
 "nbformat": 4,
 "nbformat_minor": 2
}
