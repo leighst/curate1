{
 "cells": [
  {
   "cell_type": "code",
   "execution_count": 54,
   "metadata": {},
   "outputs": [
    {
     "data": {
      "text/plain": [
       "<module 'db' from '/Users/leighstewart/Workspace/curate1/db.py'>"
      ]
     },
     "execution_count": 54,
     "metadata": {},
     "output_type": "execute_result"
    }
   ],
   "source": [
    "# %reload_ext autoreload\n",
    "# %autoreload 2\n",
    "\n",
    "import importlib\n",
    "import transform\n",
    "import ingestion\n",
    "import db\n",
    "\n",
    "importlib.reload(transform)\n",
    "importlib.reload(ingestion)\n",
    "importlib.reload(db)\n"
   ]
  },
  {
   "cell_type": "code",
   "execution_count": 55,
   "metadata": {},
   "outputs": [],
   "source": [
    "from db import Database\n",
    "db = Database(\"./curate1.db\")"
   ]
  },
  {
   "cell_type": "code",
   "execution_count": 29,
   "metadata": {},
   "outputs": [
    {
     "name": "stdout",
     "output_type": "stream",
     "text": [
      "Recreating database...\n",
      "Existing database removed.\n",
      "New database created.\n"
     ]
    }
   ],
   "source": [
    "\n",
    "db.recreate_db()\n",
    "\n"
   ]
  },
  {
   "cell_type": "code",
   "execution_count": 52,
   "metadata": {},
   "outputs": [],
   "source": [
    "from ingestion import Pipeline\n",
    "\n",
    "pipeline = Pipeline(db)\n",
    "\n",
    "\n"
   ]
  },
  {
   "cell_type": "code",
   "execution_count": 58,
   "metadata": {},
   "outputs": [],
   "source": [
    "post_ids = [40369119, 40375178, 40365248, 40360487, 40356385, 40198258, 40146575, 40365198, 40227225, 40182037]\n",
    "\n"
   ]
  },
  {
   "cell_type": "code",
   "execution_count": null,
   "metadata": {},
   "outputs": [],
   "source": [
    "pipeline.load_hackernews_posts_ids(post_ids)"
   ]
  },
  {
   "cell_type": "code",
   "execution_count": 53,
   "metadata": {},
   "outputs": [
    {
     "name": "stdout",
     "output_type": "stream",
     "text": [
      "Fetching content for {'id': 40146575, 'title': 'Pulumi adds drift detection, time-to-live stacks, and scheduled deployments', 'url': 'https://www.pulumi.com/blog/infrastructure-lifecycle-management/', 'score': 40, 'time': 1713976677, 'by': 'simenandre'}\n",
      "Extracted HTML content for https://www.pulumi.com/blog/infrastructure-lifecycle-management/\n",
      "Fetching content for {'id': 40182037, 'title': 'The Beginning of the End for Terraform?', 'url': 'https://medium.com/netpremacy-global-services/the-beginning-of-the-end-for-terraform-cfffcd2c5420', 'score': 30, 'time': 1714240911, 'by': 'lockedinspace'}\n",
      "Extracted HTML content for https://medium.com/netpremacy-global-services/the-beginning-of-the-end-for-terraform-cfffcd2c5420\n",
      "Fetching content for {'id': 40198258, 'title': 'Pulumi AI is poisoning Google search results with AI answers', 'url': 'https://github.com/pulumi/pulumi-ai/issues/79', 'score': 95, 'time': 1714398229, 'by': 'mooreds'}\n",
      "Extracted HTML content for https://github.com/pulumi/pulumi-ai/issues/79\n",
      "Fetching content for {'id': 40227225, 'title': 'Terraform-roulette – infra ops meets high-stakes thrill', 'url': 'https://github.com/lbennett-stacki/terraform-roulette', 'score': 1, 'time': 1714588063, 'by': '__luke'}\n",
      "Extracted HTML content for https://github.com/lbennett-stacki/terraform-roulette\n",
      "Fetching content for {'id': 40356385, 'title': 'Automating Docker Image Builds with Pulumi and Docker Build Cloud', 'url': 'https://www.docker.com/blog/pulumi-and-docker-build-cloud/', 'score': 1, 'time': 1715701234, 'by': 'userf'}\n",
      "Extracted HTML content for https://www.docker.com/blog/pulumi-and-docker-build-cloud/\n",
      "Fetching content for {'id': 40360487, 'title': 'A brief history of the first planetarium', 'url': 'https://spectrum.ieee.org/planetarium-history', 'score': 23, 'time': 1715722930, 'by': '_Microft'}\n",
      "Extracted HTML content for https://spectrum.ieee.org/planetarium-history\n",
      "Fetching content for {'id': 40365198, 'title': 'Oracle dumps Terraform for OpenTofu', 'url': 'https://www.thestack.technology/oracle-dumps-terraform-for-opentofu/', 'score': 252, 'time': 1715770233, 'by': 'p1nkpineapple'}\n",
      "Extracted HTML content for https://www.thestack.technology/oracle-dumps-terraform-for-opentofu/\n",
      "Fetching content for {'id': 40365248, 'title': 'Why do CPUs have multiple cache levels? (2016)', 'url': 'https://fgiesen.wordpress.com/2016/08/07/why-do-cpus-have-multiple-cache-levels/', 'score': 25, 'time': 1715770724, 'by': 'aragonite'}\n",
      "Extracted HTML content for https://fgiesen.wordpress.com/2016/08/07/why-do-cpus-have-multiple-cache-levels/\n",
      "Fetching content for {'id': 40369119, 'title': 'Starting emails with \"BEGIN PGP MESSAGE\" will fool the filter', 'url': 'https://nondeterministic.computer/@martin/112444389342113780', 'score': 293, 'time': 1715790728, 'by': 'ColinWright'}\n",
      "Extracted HTML content for https://nondeterministic.computer/@martin/112444389342113780\n",
      "Fetching content for {'id': 40375178, 'title': \"Things I won't work with: the higher states of bromine (2019)\", 'url': 'https://blogs.sciencemag.org/pipeline/archives/2019/11/21/the-higher-states-of-bromine', 'score': 330, 'time': 1715833442, 'by': 'fanf2'}\n",
      "Extracted HTML content for https://blogs.sciencemag.org/pipeline/archives/2019/11/21/the-higher-states-of-bromine\n",
      "Attributes with label 'hn_content' added for 10 posts.\n"
     ]
    }
   ],
   "source": [
    "pipeline.load_hackernews_contents_ids(post_ids)"
   ]
  },
  {
   "cell_type": "code",
   "execution_count": 59,
   "metadata": {},
   "outputs": [],
   "source": [
    "posts = []\n",
    "for post_id in post_ids:\n",
    "    p = db.get_post_with_content(post_id)\n",
    "    posts.append(p)"
   ]
  },
  {
   "cell_type": "code",
   "execution_count": 60,
   "metadata": {},
   "outputs": [],
   "source": [
    "doc1 = posts[0]['content']\n",
    "\n",
    "spec1 = '''\n",
    "# IaC\n",
    "I am interested in IaC or infrastructure as code, infrastructure deployment, infrastructure definition tools etc., plus tools and techniques directly related to these tools.\n",
    "\n",
    "I want you to be on the lookout for highly relevant info about popular tools like\n",
    "* terraform\n",
    "* pulumi\n",
    "* cloud formation\n",
    "* google's cloud deployment manager\n",
    "* crossplane\n",
    "* etc.\n",
    "\n",
    "You should also keep an eye out for tools that are in the ecosystem of these tools, such as\n",
    "* terragrunt\n",
    "* env0\n",
    "* terraspace\n",
    "* spacelift\n",
    "* terrakube\n",
    "* etc.\n",
    "\n",
    "I want you to be on the lookout for highly relevant info about cutting edge tools like \n",
    "* system initiative\n",
    "* winglang\n",
    "* etc.\n",
    "\n",
    "Although you may be tempted to include information about kubernetes, I view kube as being a different sort of tool, UNLESS it is being used for deploying infrastructure.\n",
    "For example, any discussion of kube for the usual task of defining services is not very interesting to me.\n",
    "On the other hand, products like anthos configuration manager or crossplane are interesting to me because they are tools for managing infrastructure.\n",
    "'''\n",
    "\n",
    "from transform import Transformer\n",
    "\n",
    "transformer = Transformer.from_env()\n",
    "\n",
    "docs = [doc1]\n",
    "\n",
    "result = transformer.filter_spec(docs, spec1)\n",
    "\n",
    "result\n",
    "\n"
   ]
  },
  {
   "cell_type": "code",
   "execution_count": 15,
   "metadata": {},
   "outputs": [
    {
     "name": "stdout",
     "output_type": "stream",
     "text": [
      "\n",
      "SEARCH DESCRIPTION:\n",
      "\n",
      "I am interested pokemon, but I am specifically interested in just two pokemon characters: Pikachu and Charmander.\n",
      "Any news about Pikachu and Charmander is highly relevant to me.\n",
      "Also any posts or writing about these two characters even if its not news, but just something about them, perhaps their history or some theory about what makes them tick.\n",
      "\n",
      "\n",
      "DOCUMENT CONTENT:\n",
      "\n",
      "In a remarkable turn of events, a brave Charmander became an unexpected hero when a wildfire broke out in Viridian Forest yesterday afternoon. Local Pokémon Rangers reported that the fire, likely caused by a lightning strike, spread rapidly through the dry underbrush. As panic set in among the forest's inhabitants, Charmander's innate fire-handling abilities proved invaluable. Witnesses say the young Fire-type Pokémon used its ember control to create safe pathways and guide other Pokémon to safety, effectively acting as a living firebreak.\n",
      "Thanks to Charmander's quick thinking and courageous actions, the rangers were able to contain the blaze more effectively, minimizing damage to the forest and its ecosystem. \"Charmander's bravery undoubtedly saved many lives today,\" said Ranger Jenny. \"It's a reminder of how Pokémon and humans can work together in harmony to overcome natural disasters.\" Charmander, now hailed as a local hero, has inspired trainers and Pokémon alike, showcasing the true power of teamwork and resilience.\n",
      "\n",
      "\n",
      "ChatCompletion(id='chatcmpl-9PDv4FFkCofVl8Bvvilifpheatn38', choices=[Choice(finish_reason='stop', index=0, logprobs=None, message=ChatCompletionMessage(content='{\\n  \"highly_relevant\": true,\\n  \"reasoning\": \"Based on your expressed interest in Pikachu and Charmander, this document is highly relevant to you. The content focuses on Charmander, one of the two Pokémon characters you are specifically interested in. It details a significant event where Charmander displayed bravery and used its abilities effectively in a critical situation. The narrative provides insight into Charmander\\'s actions and character, aligning with your interest in news and writing about these Pokémon. Though it does not mention Pikachu, it fully addresses your interest in Charmander, making it a pertinent and engaging piece for you.\"\\n}', role='assistant', function_call=None, tool_calls=None))], created=1715798734, model='gpt-4o-2024-05-13', object='chat.completion', system_fingerprint='fp_729ea513f7', usage=CompletionUsage(completion_tokens=127, prompt_tokens=1160, total_tokens=1287))\n"
     ]
    },
    {
     "data": {
      "text/plain": [
       "FilterResult(docs=['\\nIn a remarkable turn of events, a brave Charmander became an unexpected hero when a wildfire broke out in Viridian Forest yesterday afternoon. Local Pokémon Rangers reported that the fire, likely caused by a lightning strike, spread rapidly through the dry underbrush. As panic set in among the forest\\'s inhabitants, Charmander\\'s innate fire-handling abilities proved invaluable. Witnesses say the young Fire-type Pokémon used its ember control to create safe pathways and guide other Pokémon to safety, effectively acting as a living firebreak.\\nThanks to Charmander\\'s quick thinking and courageous actions, the rangers were able to contain the blaze more effectively, minimizing damage to the forest and its ecosystem. \"Charmander\\'s bravery undoubtedly saved many lives today,\" said Ranger Jenny. \"It\\'s a reminder of how Pokémon and humans can work together in harmony to overcome natural disasters.\" Charmander, now hailed as a local hero, has inspired trainers and Pokémon alike, showcasing the true power of teamwork and resilience.\\n'], meta=[\"Based on your expressed interest in Pikachu and Charmander, this document is highly relevant to you. The content focuses on Charmander, one of the two Pokémon characters you are specifically interested in. It details a significant event where Charmander displayed bravery and used its abilities effectively in a critical situation. The narrative provides insight into Charmander's actions and character, aligning with your interest in news and writing about these Pokémon. Though it does not mention Pikachu, it fully addresses your interest in Charmander, making it a pertinent and engaging piece for you.\"])"
      ]
     },
     "execution_count": 15,
     "metadata": {},
     "output_type": "execute_result"
    }
   ],
   "source": [
    "from transform import Transformer\n",
    "\n",
    "transformer = Transformer.from_env()\n",
    "\n",
    "doc1 = '''\n",
    "In a remarkable turn of events, a brave Charmander became an unexpected hero when a wildfire broke out in Viridian Forest yesterday afternoon. Local Pokémon Rangers reported that the fire, likely caused by a lightning strike, spread rapidly through the dry underbrush. As panic set in among the forest's inhabitants, Charmander's innate fire-handling abilities proved invaluable. Witnesses say the young Fire-type Pokémon used its ember control to create safe pathways and guide other Pokémon to safety, effectively acting as a living firebreak.\n",
    "Thanks to Charmander's quick thinking and courageous actions, the rangers were able to contain the blaze more effectively, minimizing damage to the forest and its ecosystem. \"Charmander's bravery undoubtedly saved many lives today,\" said Ranger Jenny. \"It's a reminder of how Pokémon and humans can work together in harmony to overcome natural disasters.\" Charmander, now hailed as a local hero, has inspired trainers and Pokémon alike, showcasing the true power of teamwork and resilience.\n",
    "'''\n",
    "spec = '''\n",
    "I am interested pokemon, but I am specifically interested in just two pokemon characters: Pikachu and Charmander.\n",
    "Any news about Pikachu and Charmander is highly relevant to me.\n",
    "Also any posts or writing about these two characters even if its not news, but just something about them, perhaps their history or some theory about what makes them tick.\n",
    "'''\n",
    "docs = [doc1]\n",
    "\n",
    "result = transformer.filter_spec(docs, spec)\n",
    "\n",
    "result\n",
    "\n",
    "\n",
    "\n"
   ]
  },
  {
   "cell_type": "code",
   "execution_count": 16,
   "metadata": {},
   "outputs": [
    {
     "data": {
      "text/markdown": [
       "Based on your expressed interest in Pikachu and Charmander, this document is highly relevant to you. The content focuses on Charmander, one of the two Pokémon characters you are specifically interested in. It details a significant event where Charmander displayed bravery and used its abilities effectively in a critical situation. The narrative provides insight into Charmander's actions and character, aligning with your interest in news and writing about these Pokémon. Though it does not mention Pikachu, it fully addresses your interest in Charmander, making it a pertinent and engaging piece for you."
      ],
      "text/plain": [
       "<IPython.core.display.Markdown object>"
      ]
     },
     "execution_count": 16,
     "metadata": {},
     "output_type": "execute_result"
    }
   ],
   "source": [
    "from IPython.display import Markdown\n",
    "\n",
    "# Display the meta information as markdown\n",
    "Markdown(result.meta[0])\n",
    "\n"
   ]
  }
 ],
 "metadata": {
  "kernelspec": {
   "display_name": ".venv",
   "language": "python",
   "name": "python3"
  },
  "language_info": {
   "codemirror_mode": {
    "name": "ipython",
    "version": 3
   },
   "file_extension": ".py",
   "mimetype": "text/x-python",
   "name": "python",
   "nbconvert_exporter": "python",
   "pygments_lexer": "ipython3",
   "version": "3.7.9"
  }
 },
 "nbformat": 4,
 "nbformat_minor": 2
}
